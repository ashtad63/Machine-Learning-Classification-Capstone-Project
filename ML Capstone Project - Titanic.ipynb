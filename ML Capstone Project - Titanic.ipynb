{
 "cells": [
  {
   "cell_type": "markdown",
   "metadata": {},
   "source": [
    "# Capstone Project: Titanic Data – ML Classification"
   ]
  },
  {
   "cell_type": "code",
   "execution_count": 1,
   "metadata": {
    "collapsed": true
   },
   "outputs": [],
   "source": [
    "# Import the needed libraries\n",
    "%matplotlib inline\n",
    "import numpy as np\n",
    "import pandas as pd\n",
    "from pandas import Series, DataFrame\n",
    "from sklearn.cluster import KMeans\n",
    "from sklearn.preprocessing import StandardScaler\n",
    "from sklearn.preprocessing import MinMaxScaler\n",
    "from sklearn.tree import DecisionTreeClassifier\n",
    "from sklearn.ensemble import RandomForestClassifier\n",
    "from sklearn.linear_model import LogisticRegression\n",
    "from sklearn.neighbors import KNeighborsClassifier\n",
    "from sklearn.naive_bayes import GaussianNB\n",
    "from sklearn.model_selection import train_test_split\n",
    "from sklearn.feature_selection import SelectKBest,chi2\n",
    "from sklearn.model_selection import cross_val_score\n",
    "from sklearn.metrics import classification_report\n",
    "from sklearn.metrics import accuracy_score\n",
    "from sklearn.metrics import confusion_matrix\n",
    "from sklearn.tree import export_graphviz\n",
    "import matplotlib.pyplot as plt\n",
    "import seaborn as sns; sns.set()"
   ]
  },
  {
   "cell_type": "markdown",
   "metadata": {},
   "source": [
    "### Step A: Read in Dataset and Drop the Too Distinct Variables "
   ]
  },
  {
   "cell_type": "code",
   "execution_count": 2,
   "metadata": {},
   "outputs": [
    {
     "data": {
      "text/html": [
       "<div>\n",
       "<style>\n",
       "    .dataframe thead tr:only-child th {\n",
       "        text-align: right;\n",
       "    }\n",
       "\n",
       "    .dataframe thead th {\n",
       "        text-align: left;\n",
       "    }\n",
       "\n",
       "    .dataframe tbody tr th {\n",
       "        vertical-align: top;\n",
       "    }\n",
       "</style>\n",
       "<table border=\"1\" class=\"dataframe\">\n",
       "  <thead>\n",
       "    <tr style=\"text-align: right;\">\n",
       "      <th></th>\n",
       "      <th>Survived</th>\n",
       "      <th>Pclass</th>\n",
       "      <th>Sex</th>\n",
       "      <th>Age</th>\n",
       "      <th>SibSp</th>\n",
       "      <th>ParCh</th>\n",
       "      <th>Ticket</th>\n",
       "      <th>Fare</th>\n",
       "      <th>Cabin</th>\n",
       "      <th>Embarked</th>\n",
       "    </tr>\n",
       "    <tr>\n",
       "      <th>PassengerId</th>\n",
       "      <th></th>\n",
       "      <th></th>\n",
       "      <th></th>\n",
       "      <th></th>\n",
       "      <th></th>\n",
       "      <th></th>\n",
       "      <th></th>\n",
       "      <th></th>\n",
       "      <th></th>\n",
       "      <th></th>\n",
       "    </tr>\n",
       "  </thead>\n",
       "  <tbody>\n",
       "    <tr>\n",
       "      <th>1</th>\n",
       "      <td>0</td>\n",
       "      <td>3</td>\n",
       "      <td>male</td>\n",
       "      <td>22.0</td>\n",
       "      <td>1</td>\n",
       "      <td>0</td>\n",
       "      <td>A/5 21171</td>\n",
       "      <td>7.2500</td>\n",
       "      <td>NaN</td>\n",
       "      <td>S</td>\n",
       "    </tr>\n",
       "    <tr>\n",
       "      <th>2</th>\n",
       "      <td>1</td>\n",
       "      <td>1</td>\n",
       "      <td>female</td>\n",
       "      <td>38.0</td>\n",
       "      <td>1</td>\n",
       "      <td>0</td>\n",
       "      <td>PC 17599</td>\n",
       "      <td>71.2833</td>\n",
       "      <td>C85</td>\n",
       "      <td>C</td>\n",
       "    </tr>\n",
       "    <tr>\n",
       "      <th>3</th>\n",
       "      <td>1</td>\n",
       "      <td>3</td>\n",
       "      <td>female</td>\n",
       "      <td>26.0</td>\n",
       "      <td>0</td>\n",
       "      <td>0</td>\n",
       "      <td>STON/O2. 3101282</td>\n",
       "      <td>7.9250</td>\n",
       "      <td>NaN</td>\n",
       "      <td>S</td>\n",
       "    </tr>\n",
       "    <tr>\n",
       "      <th>4</th>\n",
       "      <td>1</td>\n",
       "      <td>1</td>\n",
       "      <td>female</td>\n",
       "      <td>35.0</td>\n",
       "      <td>1</td>\n",
       "      <td>0</td>\n",
       "      <td>113803</td>\n",
       "      <td>53.1000</td>\n",
       "      <td>C123</td>\n",
       "      <td>S</td>\n",
       "    </tr>\n",
       "    <tr>\n",
       "      <th>5</th>\n",
       "      <td>0</td>\n",
       "      <td>3</td>\n",
       "      <td>male</td>\n",
       "      <td>35.0</td>\n",
       "      <td>0</td>\n",
       "      <td>0</td>\n",
       "      <td>373450</td>\n",
       "      <td>8.0500</td>\n",
       "      <td>NaN</td>\n",
       "      <td>S</td>\n",
       "    </tr>\n",
       "  </tbody>\n",
       "</table>\n",
       "</div>"
      ],
      "text/plain": [
       "             Survived  Pclass     Sex   Age  SibSp  ParCh            Ticket  \\\n",
       "PassengerId                                                                   \n",
       "1                   0       3    male  22.0      1      0         A/5 21171   \n",
       "2                   1       1  female  38.0      1      0          PC 17599   \n",
       "3                   1       3  female  26.0      0      0  STON/O2. 3101282   \n",
       "4                   1       1  female  35.0      1      0            113803   \n",
       "5                   0       3    male  35.0      0      0            373450   \n",
       "\n",
       "                Fare Cabin Embarked  \n",
       "PassengerId                          \n",
       "1             7.2500   NaN        S  \n",
       "2            71.2833   C85        C  \n",
       "3             7.9250   NaN        S  \n",
       "4            53.1000  C123        S  \n",
       "5             8.0500   NaN        S  "
      ]
     },
     "execution_count": 2,
     "metadata": {},
     "output_type": "execute_result"
    }
   ],
   "source": [
    "titanic_data = pd.read_csv('titanic_data.csv', index_col = 'PassengerId')\n",
    "titanic_data.head(5)"
   ]
  },
  {
   "cell_type": "code",
   "execution_count": 3,
   "metadata": {},
   "outputs": [
    {
     "data": {
      "text/html": [
       "<div>\n",
       "<style>\n",
       "    .dataframe thead tr:only-child th {\n",
       "        text-align: right;\n",
       "    }\n",
       "\n",
       "    .dataframe thead th {\n",
       "        text-align: left;\n",
       "    }\n",
       "\n",
       "    .dataframe tbody tr th {\n",
       "        vertical-align: top;\n",
       "    }\n",
       "</style>\n",
       "<table border=\"1\" class=\"dataframe\">\n",
       "  <thead>\n",
       "    <tr style=\"text-align: right;\">\n",
       "      <th></th>\n",
       "      <th>Survived</th>\n",
       "      <th>Pclass</th>\n",
       "      <th>Sex</th>\n",
       "      <th>Age</th>\n",
       "      <th>SibSp</th>\n",
       "      <th>ParCh</th>\n",
       "      <th>Fare</th>\n",
       "      <th>Embarked</th>\n",
       "    </tr>\n",
       "    <tr>\n",
       "      <th>PassengerId</th>\n",
       "      <th></th>\n",
       "      <th></th>\n",
       "      <th></th>\n",
       "      <th></th>\n",
       "      <th></th>\n",
       "      <th></th>\n",
       "      <th></th>\n",
       "      <th></th>\n",
       "    </tr>\n",
       "  </thead>\n",
       "  <tbody>\n",
       "    <tr>\n",
       "      <th>1</th>\n",
       "      <td>0</td>\n",
       "      <td>3</td>\n",
       "      <td>male</td>\n",
       "      <td>22.0</td>\n",
       "      <td>1</td>\n",
       "      <td>0</td>\n",
       "      <td>7.2500</td>\n",
       "      <td>S</td>\n",
       "    </tr>\n",
       "    <tr>\n",
       "      <th>2</th>\n",
       "      <td>1</td>\n",
       "      <td>1</td>\n",
       "      <td>female</td>\n",
       "      <td>38.0</td>\n",
       "      <td>1</td>\n",
       "      <td>0</td>\n",
       "      <td>71.2833</td>\n",
       "      <td>C</td>\n",
       "    </tr>\n",
       "    <tr>\n",
       "      <th>3</th>\n",
       "      <td>1</td>\n",
       "      <td>3</td>\n",
       "      <td>female</td>\n",
       "      <td>26.0</td>\n",
       "      <td>0</td>\n",
       "      <td>0</td>\n",
       "      <td>7.9250</td>\n",
       "      <td>S</td>\n",
       "    </tr>\n",
       "    <tr>\n",
       "      <th>4</th>\n",
       "      <td>1</td>\n",
       "      <td>1</td>\n",
       "      <td>female</td>\n",
       "      <td>35.0</td>\n",
       "      <td>1</td>\n",
       "      <td>0</td>\n",
       "      <td>53.1000</td>\n",
       "      <td>S</td>\n",
       "    </tr>\n",
       "    <tr>\n",
       "      <th>5</th>\n",
       "      <td>0</td>\n",
       "      <td>3</td>\n",
       "      <td>male</td>\n",
       "      <td>35.0</td>\n",
       "      <td>0</td>\n",
       "      <td>0</td>\n",
       "      <td>8.0500</td>\n",
       "      <td>S</td>\n",
       "    </tr>\n",
       "  </tbody>\n",
       "</table>\n",
       "</div>"
      ],
      "text/plain": [
       "             Survived  Pclass     Sex   Age  SibSp  ParCh     Fare Embarked\n",
       "PassengerId                                                                \n",
       "1                   0       3    male  22.0      1      0   7.2500        S\n",
       "2                   1       1  female  38.0      1      0  71.2833        C\n",
       "3                   1       3  female  26.0      0      0   7.9250        S\n",
       "4                   1       1  female  35.0      1      0  53.1000        S\n",
       "5                   0       3    male  35.0      0      0   8.0500        S"
      ]
     },
     "execution_count": 3,
     "metadata": {},
     "output_type": "execute_result"
    }
   ],
   "source": [
    "titanic_data = titanic_data.drop(['Cabin', 'Ticket'], axis=1)\n",
    "titanic_data.head(5)"
   ]
  },
  {
   "cell_type": "markdown",
   "metadata": {},
   "source": [
    "### Step B: Examine Dataset"
   ]
  },
  {
   "cell_type": "code",
   "execution_count": 4,
   "metadata": {},
   "outputs": [
    {
     "data": {
      "text/plain": [
       "Survived      int64\n",
       "Pclass        int64\n",
       "Sex          object\n",
       "Age         float64\n",
       "SibSp         int64\n",
       "ParCh         int64\n",
       "Fare        float64\n",
       "Embarked     object\n",
       "dtype: object"
      ]
     },
     "execution_count": 4,
     "metadata": {},
     "output_type": "execute_result"
    }
   ],
   "source": [
    "titanic_data.dtypes"
   ]
  },
  {
   "cell_type": "code",
   "execution_count": 5,
   "metadata": {},
   "outputs": [
    {
     "data": {
      "text/plain": [
       "(1309, 8)"
      ]
     },
     "execution_count": 5,
     "metadata": {},
     "output_type": "execute_result"
    }
   ],
   "source": [
    "titanic_data.shape"
   ]
  },
  {
   "cell_type": "markdown",
   "metadata": {},
   "source": [
    "### Step C: Display Descriptive Statistics and Variable Distributions"
   ]
  },
  {
   "cell_type": "code",
   "execution_count": 6,
   "metadata": {},
   "outputs": [
    {
     "data": {
      "text/html": [
       "<div>\n",
       "<style>\n",
       "    .dataframe thead tr:only-child th {\n",
       "        text-align: right;\n",
       "    }\n",
       "\n",
       "    .dataframe thead th {\n",
       "        text-align: left;\n",
       "    }\n",
       "\n",
       "    .dataframe tbody tr th {\n",
       "        vertical-align: top;\n",
       "    }\n",
       "</style>\n",
       "<table border=\"1\" class=\"dataframe\">\n",
       "  <thead>\n",
       "    <tr style=\"text-align: right;\">\n",
       "      <th></th>\n",
       "      <th>Survived</th>\n",
       "      <th>0</th>\n",
       "      <th>1</th>\n",
       "    </tr>\n",
       "  </thead>\n",
       "  <tbody>\n",
       "    <tr>\n",
       "      <th rowspan=\"8\" valign=\"top\">Age</th>\n",
       "      <th>count</th>\n",
       "      <td>815.000000</td>\n",
       "      <td>494.000000</td>\n",
       "    </tr>\n",
       "    <tr>\n",
       "      <th>mean</th>\n",
       "      <td>29.669319</td>\n",
       "      <td>28.540172</td>\n",
       "    </tr>\n",
       "    <tr>\n",
       "      <th>std</th>\n",
       "      <td>12.836268</td>\n",
       "      <td>14.221584</td>\n",
       "    </tr>\n",
       "    <tr>\n",
       "      <th>min</th>\n",
       "      <td>0.330000</td>\n",
       "      <td>0.170000</td>\n",
       "    </tr>\n",
       "    <tr>\n",
       "      <th>25%</th>\n",
       "      <td>22.000000</td>\n",
       "      <td>21.000000</td>\n",
       "    </tr>\n",
       "    <tr>\n",
       "      <th>50%</th>\n",
       "      <td>26.000000</td>\n",
       "      <td>27.000000</td>\n",
       "    </tr>\n",
       "    <tr>\n",
       "      <th>75%</th>\n",
       "      <td>37.000000</td>\n",
       "      <td>36.000000</td>\n",
       "    </tr>\n",
       "    <tr>\n",
       "      <th>max</th>\n",
       "      <td>74.000000</td>\n",
       "      <td>80.000000</td>\n",
       "    </tr>\n",
       "    <tr>\n",
       "      <th rowspan=\"8\" valign=\"top\">Fare</th>\n",
       "      <th>count</th>\n",
       "      <td>814.000000</td>\n",
       "      <td>494.000000</td>\n",
       "    </tr>\n",
       "    <tr>\n",
       "      <th>mean</th>\n",
       "      <td>23.879124</td>\n",
       "      <td>48.811497</td>\n",
       "    </tr>\n",
       "    <tr>\n",
       "      <th>std</th>\n",
       "      <td>34.906946</td>\n",
       "      <td>68.594401</td>\n",
       "    </tr>\n",
       "    <tr>\n",
       "      <th>min</th>\n",
       "      <td>0.000000</td>\n",
       "      <td>0.000000</td>\n",
       "    </tr>\n",
       "    <tr>\n",
       "      <th>25%</th>\n",
       "      <td>7.854200</td>\n",
       "      <td>11.431275</td>\n",
       "    </tr>\n",
       "    <tr>\n",
       "      <th>50%</th>\n",
       "      <td>10.500000</td>\n",
       "      <td>26.000000</td>\n",
       "    </tr>\n",
       "    <tr>\n",
       "      <th>75%</th>\n",
       "      <td>26.000000</td>\n",
       "      <td>56.982300</td>\n",
       "    </tr>\n",
       "    <tr>\n",
       "      <th>max</th>\n",
       "      <td>263.000000</td>\n",
       "      <td>512.329200</td>\n",
       "    </tr>\n",
       "    <tr>\n",
       "      <th rowspan=\"8\" valign=\"top\">ParCh</th>\n",
       "      <th>count</th>\n",
       "      <td>815.000000</td>\n",
       "      <td>494.000000</td>\n",
       "    </tr>\n",
       "    <tr>\n",
       "      <th>mean</th>\n",
       "      <td>0.311656</td>\n",
       "      <td>0.506073</td>\n",
       "    </tr>\n",
       "    <tr>\n",
       "      <th>std</th>\n",
       "      <td>0.843270</td>\n",
       "      <td>0.888833</td>\n",
       "    </tr>\n",
       "    <tr>\n",
       "      <th>min</th>\n",
       "      <td>0.000000</td>\n",
       "      <td>0.000000</td>\n",
       "    </tr>\n",
       "    <tr>\n",
       "      <th>25%</th>\n",
       "      <td>0.000000</td>\n",
       "      <td>0.000000</td>\n",
       "    </tr>\n",
       "    <tr>\n",
       "      <th>50%</th>\n",
       "      <td>0.000000</td>\n",
       "      <td>0.000000</td>\n",
       "    </tr>\n",
       "    <tr>\n",
       "      <th>75%</th>\n",
       "      <td>0.000000</td>\n",
       "      <td>1.000000</td>\n",
       "    </tr>\n",
       "    <tr>\n",
       "      <th>max</th>\n",
       "      <td>9.000000</td>\n",
       "      <td>9.000000</td>\n",
       "    </tr>\n",
       "    <tr>\n",
       "      <th rowspan=\"8\" valign=\"top\">Pclass</th>\n",
       "      <th>count</th>\n",
       "      <td>815.000000</td>\n",
       "      <td>494.000000</td>\n",
       "    </tr>\n",
       "    <tr>\n",
       "      <th>mean</th>\n",
       "      <td>2.467485</td>\n",
       "      <td>2.010121</td>\n",
       "    </tr>\n",
       "    <tr>\n",
       "      <th>std</th>\n",
       "      <td>0.765414</td>\n",
       "      <td>0.874416</td>\n",
       "    </tr>\n",
       "    <tr>\n",
       "      <th>min</th>\n",
       "      <td>1.000000</td>\n",
       "      <td>1.000000</td>\n",
       "    </tr>\n",
       "    <tr>\n",
       "      <th>25%</th>\n",
       "      <td>2.000000</td>\n",
       "      <td>1.000000</td>\n",
       "    </tr>\n",
       "    <tr>\n",
       "      <th>50%</th>\n",
       "      <td>3.000000</td>\n",
       "      <td>2.000000</td>\n",
       "    </tr>\n",
       "    <tr>\n",
       "      <th>75%</th>\n",
       "      <td>3.000000</td>\n",
       "      <td>3.000000</td>\n",
       "    </tr>\n",
       "    <tr>\n",
       "      <th>max</th>\n",
       "      <td>3.000000</td>\n",
       "      <td>3.000000</td>\n",
       "    </tr>\n",
       "    <tr>\n",
       "      <th rowspan=\"8\" valign=\"top\">SibSp</th>\n",
       "      <th>count</th>\n",
       "      <td>815.000000</td>\n",
       "      <td>494.000000</td>\n",
       "    </tr>\n",
       "    <tr>\n",
       "      <th>mean</th>\n",
       "      <td>0.496933</td>\n",
       "      <td>0.502024</td>\n",
       "    </tr>\n",
       "    <tr>\n",
       "      <th>std</th>\n",
       "      <td>1.164452</td>\n",
       "      <td>0.799972</td>\n",
       "    </tr>\n",
       "    <tr>\n",
       "      <th>min</th>\n",
       "      <td>0.000000</td>\n",
       "      <td>0.000000</td>\n",
       "    </tr>\n",
       "    <tr>\n",
       "      <th>25%</th>\n",
       "      <td>0.000000</td>\n",
       "      <td>0.000000</td>\n",
       "    </tr>\n",
       "    <tr>\n",
       "      <th>50%</th>\n",
       "      <td>0.000000</td>\n",
       "      <td>0.000000</td>\n",
       "    </tr>\n",
       "    <tr>\n",
       "      <th>75%</th>\n",
       "      <td>1.000000</td>\n",
       "      <td>1.000000</td>\n",
       "    </tr>\n",
       "    <tr>\n",
       "      <th>max</th>\n",
       "      <td>8.000000</td>\n",
       "      <td>8.000000</td>\n",
       "    </tr>\n",
       "  </tbody>\n",
       "</table>\n",
       "</div>"
      ],
      "text/plain": [
       "Survived               0           1\n",
       "Age    count  815.000000  494.000000\n",
       "       mean    29.669319   28.540172\n",
       "       std     12.836268   14.221584\n",
       "       min      0.330000    0.170000\n",
       "       25%     22.000000   21.000000\n",
       "       50%     26.000000   27.000000\n",
       "       75%     37.000000   36.000000\n",
       "       max     74.000000   80.000000\n",
       "Fare   count  814.000000  494.000000\n",
       "       mean    23.879124   48.811497\n",
       "       std     34.906946   68.594401\n",
       "       min      0.000000    0.000000\n",
       "       25%      7.854200   11.431275\n",
       "       50%     10.500000   26.000000\n",
       "       75%     26.000000   56.982300\n",
       "       max    263.000000  512.329200\n",
       "ParCh  count  815.000000  494.000000\n",
       "       mean     0.311656    0.506073\n",
       "       std      0.843270    0.888833\n",
       "       min      0.000000    0.000000\n",
       "       25%      0.000000    0.000000\n",
       "       50%      0.000000    0.000000\n",
       "       75%      0.000000    1.000000\n",
       "       max      9.000000    9.000000\n",
       "Pclass count  815.000000  494.000000\n",
       "       mean     2.467485    2.010121\n",
       "       std      0.765414    0.874416\n",
       "       min      1.000000    1.000000\n",
       "       25%      2.000000    1.000000\n",
       "       50%      3.000000    2.000000\n",
       "       75%      3.000000    3.000000\n",
       "       max      3.000000    3.000000\n",
       "SibSp  count  815.000000  494.000000\n",
       "       mean     0.496933    0.502024\n",
       "       std      1.164452    0.799972\n",
       "       min      0.000000    0.000000\n",
       "       25%      0.000000    0.000000\n",
       "       50%      0.000000    0.000000\n",
       "       75%      1.000000    1.000000\n",
       "       max      8.000000    8.000000"
      ]
     },
     "execution_count": 6,
     "metadata": {},
     "output_type": "execute_result"
    }
   ],
   "source": [
    "titanic_data.groupby(['Survived']).describe().T"
   ]
  },
  {
   "cell_type": "code",
   "execution_count": 7,
   "metadata": {},
   "outputs": [
    {
     "data": {
      "text/plain": [
       "0    815\n",
       "1    494\n",
       "Name: Survived, dtype: int64"
      ]
     },
     "execution_count": 7,
     "metadata": {},
     "output_type": "execute_result"
    }
   ],
   "source": [
    "titanic_data['Survived'].value_counts()"
   ]
  },
  {
   "cell_type": "code",
   "execution_count": 8,
   "metadata": {},
   "outputs": [
    {
     "data": {
      "text/plain": [
       "male      843\n",
       "female    466\n",
       "Name: Sex, dtype: int64"
      ]
     },
     "execution_count": 8,
     "metadata": {},
     "output_type": "execute_result"
    }
   ],
   "source": [
    "titanic_data['Sex'].value_counts()"
   ]
  },
  {
   "cell_type": "code",
   "execution_count": 9,
   "metadata": {},
   "outputs": [
    {
     "data": {
      "text/plain": [
       "3    709\n",
       "1    323\n",
       "2    277\n",
       "Name: Pclass, dtype: int64"
      ]
     },
     "execution_count": 9,
     "metadata": {},
     "output_type": "execute_result"
    }
   ],
   "source": [
    "titanic_data['Pclass'].value_counts()"
   ]
  },
  {
   "cell_type": "code",
   "execution_count": 10,
   "metadata": {},
   "outputs": [
    {
     "data": {
      "text/plain": [
       "S    914\n",
       "C    270\n",
       "Q    123\n",
       "Name: Embarked, dtype: int64"
      ]
     },
     "execution_count": 10,
     "metadata": {},
     "output_type": "execute_result"
    }
   ],
   "source": [
    "titanic_data['Embarked'].value_counts()"
   ]
  },
  {
   "cell_type": "code",
   "execution_count": 11,
   "metadata": {},
   "outputs": [
    {
     "data": {
      "text/plain": [
       "<matplotlib.axes._subplots.AxesSubplot at 0x15d72d963c8>"
      ]
     },
     "execution_count": 11,
     "metadata": {},
     "output_type": "execute_result"
    },
    {
     "data": {
      "image/png": "[encoded data removed]",
      "text/plain": [
       "<matplotlib.figure.Figure at 0x15d718e40b8>"
      ]
     },
     "metadata": {},
     "output_type": "display_data"
    }
   ],
   "source": [
    "sns.countplot(x = 'Survived', hue='Survived', data = titanic_data)"
   ]
  },
  {
   "cell_type": "code",
   "execution_count": 12,
   "metadata": {},
   "outputs": [
    {
     "data": {
      "text/plain": [
       "<matplotlib.axes._subplots.AxesSubplot at 0x15d72f19c18>"
      ]
     },
     "execution_count": 12,
     "metadata": {},
     "output_type": "execute_result"
    },
    {
     "data": {
      "image/png": "[encoded data removed]",
      "text/plain": [
       "<matplotlib.figure.Figure at 0x15d72f29da0>"
      ]
     },
     "metadata": {},
     "output_type": "display_data"
    }
   ],
   "source": [
    "sns.countplot(x = 'Sex', hue='Survived', data = titanic_data)"
   ]
  },
  {
   "cell_type": "code",
   "execution_count": 13,
   "metadata": {},
   "outputs": [
    {
     "data": {
      "text/plain": [
       "<matplotlib.axes._subplots.AxesSubplot at 0x15d732487f0>"
      ]
     },
     "execution_count": 13,
     "metadata": {},
     "output_type": "execute_result"
    },
    {
     "data": {
      "image/png": "[encoded data removed]",
      "text/plain": [
       "<matplotlib.figure.Figure at 0x15d732c30f0>"
      ]
     },
     "metadata": {},
     "output_type": "display_data"
    }
   ],
   "source": [
    "sns.countplot(x = 'Pclass', hue='Survived', data = titanic_data)"
   ]
  },
  {
   "cell_type": "code",
   "execution_count": 14,
   "metadata": {},
   "outputs": [
    {
     "data": {
      "text/plain": [
       "<matplotlib.axes._subplots.AxesSubplot at 0x15d733617b8>"
      ]
     },
     "execution_count": 14,
     "metadata": {},
     "output_type": "execute_result"
    },
    {
     "data": {
      "image/png": "[encoded data removed]",
      "text/plain": [
       "<matplotlib.figure.Figure at 0x15d6d98c588>"
      ]
     },
     "metadata": {},
     "output_type": "display_data"
    }
   ],
   "source": [
    "sns.countplot(x = 'Embarked', hue='Survived', data = titanic_data)"
   ]
  },
  {
   "cell_type": "code",
   "execution_count": 15,
   "metadata": {},
   "outputs": [
    {
     "data": {
      "text/html": [
       "<div>\n",
       "<style>\n",
       "    .dataframe thead tr:only-child th {\n",
       "        text-align: right;\n",
       "    }\n",
       "\n",
       "    .dataframe thead th {\n",
       "        text-align: left;\n",
       "    }\n",
       "\n",
       "    .dataframe tbody tr th {\n",
       "        vertical-align: top;\n",
       "    }\n",
       "</style>\n",
       "<table border=\"1\" class=\"dataframe\">\n",
       "  <thead>\n",
       "    <tr style=\"text-align: right;\">\n",
       "      <th>Survived</th>\n",
       "      <th>0</th>\n",
       "      <th>1</th>\n",
       "      <th>total</th>\n",
       "    </tr>\n",
       "    <tr>\n",
       "      <th>Sex</th>\n",
       "      <th></th>\n",
       "      <th></th>\n",
       "      <th></th>\n",
       "    </tr>\n",
       "  </thead>\n",
       "  <tbody>\n",
       "    <tr>\n",
       "      <th>female</th>\n",
       "      <td>6.187930</td>\n",
       "      <td>29.411765</td>\n",
       "      <td>35.599694</td>\n",
       "    </tr>\n",
       "    <tr>\n",
       "      <th>male</th>\n",
       "      <td>56.073338</td>\n",
       "      <td>8.326967</td>\n",
       "      <td>64.400306</td>\n",
       "    </tr>\n",
       "    <tr>\n",
       "      <th>total</th>\n",
       "      <td>62.261268</td>\n",
       "      <td>37.738732</td>\n",
       "      <td>100.000000</td>\n",
       "    </tr>\n",
       "  </tbody>\n",
       "</table>\n",
       "</div>"
      ],
      "text/plain": [
       "Survived          0          1       total\n",
       "Sex                                       \n",
       "female     6.187930  29.411765   35.599694\n",
       "male      56.073338   8.326967   64.400306\n",
       "total     62.261268  37.738732  100.000000"
      ]
     },
     "execution_count": 15,
     "metadata": {},
     "output_type": "execute_result"
    }
   ],
   "source": [
    "pd.pivot_table(titanic_data, values='Age', index=['Sex'], columns='Survived', margins = True,\n",
    "               margins_name = 'total', aggfunc=lambda x: (len(x) / titanic_data.shape[0])*100)"
   ]
  },
  {
   "cell_type": "code",
   "execution_count": 16,
   "metadata": {},
   "outputs": [
    {
     "data": {
      "text/html": [
       "<div>\n",
       "<style>\n",
       "    .dataframe thead tr:only-child th {\n",
       "        text-align: right;\n",
       "    }\n",
       "\n",
       "    .dataframe thead th {\n",
       "        text-align: left;\n",
       "    }\n",
       "\n",
       "    .dataframe tbody tr th {\n",
       "        vertical-align: top;\n",
       "    }\n",
       "</style>\n",
       "<table border=\"1\" class=\"dataframe\">\n",
       "  <thead>\n",
       "    <tr style=\"text-align: right;\">\n",
       "      <th>Survived</th>\n",
       "      <th>0</th>\n",
       "      <th>1</th>\n",
       "      <th>total</th>\n",
       "    </tr>\n",
       "    <tr>\n",
       "      <th>Pclass</th>\n",
       "      <th></th>\n",
       "      <th></th>\n",
       "      <th></th>\n",
       "    </tr>\n",
       "  </thead>\n",
       "  <tbody>\n",
       "    <tr>\n",
       "      <th>1</th>\n",
       "      <td>10.466005</td>\n",
       "      <td>14.209320</td>\n",
       "      <td>24.675325</td>\n",
       "    </tr>\n",
       "    <tr>\n",
       "      <th>2</th>\n",
       "      <td>12.223071</td>\n",
       "      <td>8.938121</td>\n",
       "      <td>21.161192</td>\n",
       "    </tr>\n",
       "    <tr>\n",
       "      <th>3</th>\n",
       "      <td>39.572193</td>\n",
       "      <td>14.591291</td>\n",
       "      <td>54.163484</td>\n",
       "    </tr>\n",
       "    <tr>\n",
       "      <th>total</th>\n",
       "      <td>62.261268</td>\n",
       "      <td>37.738732</td>\n",
       "      <td>100.000000</td>\n",
       "    </tr>\n",
       "  </tbody>\n",
       "</table>\n",
       "</div>"
      ],
      "text/plain": [
       "Survived          0          1       total\n",
       "Pclass                                    \n",
       "1         10.466005  14.209320   24.675325\n",
       "2         12.223071   8.938121   21.161192\n",
       "3         39.572193  14.591291   54.163484\n",
       "total     62.261268  37.738732  100.000000"
      ]
     },
     "execution_count": 16,
     "metadata": {},
     "output_type": "execute_result"
    }
   ],
   "source": [
    "pd.pivot_table(titanic_data, values='Age', index=['Pclass'], columns='Survived', margins = True,\n",
    "               margins_name = 'total', aggfunc=lambda x: (len(x) / titanic_data.shape[0])*100)"
   ]
  },
  {
   "cell_type": "code",
   "execution_count": 17,
   "metadata": {},
   "outputs": [
    {
     "data": {
      "text/html": [
       "<div>\n",
       "<style>\n",
       "    .dataframe thead tr:only-child th {\n",
       "        text-align: right;\n",
       "    }\n",
       "\n",
       "    .dataframe thead th {\n",
       "        text-align: left;\n",
       "    }\n",
       "\n",
       "    .dataframe tbody tr th {\n",
       "        vertical-align: top;\n",
       "    }\n",
       "</style>\n",
       "<table border=\"1\" class=\"dataframe\">\n",
       "  <thead>\n",
       "    <tr style=\"text-align: right;\">\n",
       "      <th></th>\n",
       "      <th>Survived</th>\n",
       "      <th>0</th>\n",
       "      <th>1</th>\n",
       "      <th>total</th>\n",
       "    </tr>\n",
       "    <tr>\n",
       "      <th>Pclass</th>\n",
       "      <th>Sex</th>\n",
       "      <th></th>\n",
       "      <th></th>\n",
       "      <th></th>\n",
       "    </tr>\n",
       "  </thead>\n",
       "  <tbody>\n",
       "    <tr>\n",
       "      <th rowspan=\"2\" valign=\"top\">1</th>\n",
       "      <th>female</th>\n",
       "      <td>0.229183</td>\n",
       "      <td>10.771581</td>\n",
       "      <td>11.000764</td>\n",
       "    </tr>\n",
       "    <tr>\n",
       "      <th>male</th>\n",
       "      <td>10.236822</td>\n",
       "      <td>3.437739</td>\n",
       "      <td>13.674561</td>\n",
       "    </tr>\n",
       "    <tr>\n",
       "      <th rowspan=\"2\" valign=\"top\">2</th>\n",
       "      <th>female</th>\n",
       "      <td>0.458365</td>\n",
       "      <td>7.639419</td>\n",
       "      <td>8.097785</td>\n",
       "    </tr>\n",
       "    <tr>\n",
       "      <th>male</th>\n",
       "      <td>11.764706</td>\n",
       "      <td>1.298701</td>\n",
       "      <td>13.063407</td>\n",
       "    </tr>\n",
       "    <tr>\n",
       "      <th rowspan=\"2\" valign=\"top\">3</th>\n",
       "      <th>female</th>\n",
       "      <td>5.500382</td>\n",
       "      <td>11.000764</td>\n",
       "      <td>16.501146</td>\n",
       "    </tr>\n",
       "    <tr>\n",
       "      <th>male</th>\n",
       "      <td>34.071811</td>\n",
       "      <td>3.590527</td>\n",
       "      <td>37.662338</td>\n",
       "    </tr>\n",
       "    <tr>\n",
       "      <th>total</th>\n",
       "      <th></th>\n",
       "      <td>62.261268</td>\n",
       "      <td>37.738732</td>\n",
       "      <td>100.000000</td>\n",
       "    </tr>\n",
       "  </tbody>\n",
       "</table>\n",
       "</div>"
      ],
      "text/plain": [
       "Survived               0          1       total\n",
       "Pclass Sex                                     \n",
       "1      female   0.229183  10.771581   11.000764\n",
       "       male    10.236822   3.437739   13.674561\n",
       "2      female   0.458365   7.639419    8.097785\n",
       "       male    11.764706   1.298701   13.063407\n",
       "3      female   5.500382  11.000764   16.501146\n",
       "       male    34.071811   3.590527   37.662338\n",
       "total          62.261268  37.738732  100.000000"
      ]
     },
     "execution_count": 17,
     "metadata": {},
     "output_type": "execute_result"
    }
   ],
   "source": [
    "# What percentage of 1st class female and male, 2nd class female and male and 3rd class female and male passengers survived?\n",
    "pd.pivot_table(titanic_data, values='Age', index=['Pclass', 'Sex'], columns='Survived', margins = True,\n",
    "               margins_name = 'total', aggfunc=lambda x: (len(x) / titanic_data.shape[0])*100)"
   ]
  },
  {
   "cell_type": "code",
   "execution_count": 18,
   "metadata": {},
   "outputs": [
    {
     "data": {
      "text/html": [
       "<div>\n",
       "<style>\n",
       "    .dataframe thead tr:only-child th {\n",
       "        text-align: right;\n",
       "    }\n",
       "\n",
       "    .dataframe thead th {\n",
       "        text-align: left;\n",
       "    }\n",
       "\n",
       "    .dataframe tbody tr th {\n",
       "        vertical-align: top;\n",
       "    }\n",
       "</style>\n",
       "<table border=\"1\" class=\"dataframe\">\n",
       "  <thead>\n",
       "    <tr style=\"text-align: right;\">\n",
       "      <th>Survived</th>\n",
       "      <th>0</th>\n",
       "      <th>1</th>\n",
       "      <th>total</th>\n",
       "    </tr>\n",
       "    <tr>\n",
       "      <th>Embarked</th>\n",
       "      <th></th>\n",
       "      <th></th>\n",
       "      <th></th>\n",
       "    </tr>\n",
       "  </thead>\n",
       "  <tbody>\n",
       "    <tr>\n",
       "      <th>C</th>\n",
       "      <td>10.466005</td>\n",
       "      <td>10.160428</td>\n",
       "      <td>20.626432</td>\n",
       "    </tr>\n",
       "    <tr>\n",
       "      <th>Q</th>\n",
       "      <td>5.271199</td>\n",
       "      <td>4.125286</td>\n",
       "      <td>9.396486</td>\n",
       "    </tr>\n",
       "    <tr>\n",
       "      <th>S</th>\n",
       "      <td>46.524064</td>\n",
       "      <td>23.300229</td>\n",
       "      <td>69.824293</td>\n",
       "    </tr>\n",
       "    <tr>\n",
       "      <th>total</th>\n",
       "      <td>62.261268</td>\n",
       "      <td>37.585943</td>\n",
       "      <td>99.847212</td>\n",
       "    </tr>\n",
       "  </tbody>\n",
       "</table>\n",
       "</div>"
      ],
      "text/plain": [
       "Survived          0          1      total\n",
       "Embarked                                 \n",
       "C         10.466005  10.160428  20.626432\n",
       "Q          5.271199   4.125286   9.396486\n",
       "S         46.524064  23.300229  69.824293\n",
       "total     62.261268  37.585943  99.847212"
      ]
     },
     "execution_count": 18,
     "metadata": {},
     "output_type": "execute_result"
    }
   ],
   "source": [
    "pd.pivot_table(titanic_data, values='Age', index=['Embarked'], columns='Survived', margins = True,\n",
    "               margins_name = 'total', aggfunc=lambda x: (len(x) / titanic_data.shape[0])*100)"
   ]
  },
  {
   "cell_type": "markdown",
   "metadata": {},
   "source": [
    "### Step D: Handle Any Missing Values"
   ]
  },
  {
   "cell_type": "code",
   "execution_count": 19,
   "metadata": {},
   "outputs": [
    {
     "data": {
      "text/plain": [
       "Survived    0\n",
       "Pclass      0\n",
       "Sex         0\n",
       "Age         0\n",
       "SibSp       0\n",
       "ParCh       0\n",
       "Fare        1\n",
       "Embarked    2\n",
       "dtype: int64"
      ]
     },
     "execution_count": 19,
     "metadata": {},
     "output_type": "execute_result"
    }
   ],
   "source": [
    "# Check that there are no missing values by summing the nulls.\n",
    "titanic_data.isnull().sum()"
   ]
  },
  {
   "cell_type": "code",
   "execution_count": 20,
   "metadata": {},
   "outputs": [
    {
     "data": {
      "text/html": [
       "<div>\n",
       "<style>\n",
       "    .dataframe thead tr:only-child th {\n",
       "        text-align: right;\n",
       "    }\n",
       "\n",
       "    .dataframe thead th {\n",
       "        text-align: left;\n",
       "    }\n",
       "\n",
       "    .dataframe tbody tr th {\n",
       "        vertical-align: top;\n",
       "    }\n",
       "</style>\n",
       "<table border=\"1\" class=\"dataframe\">\n",
       "  <thead>\n",
       "    <tr style=\"text-align: right;\">\n",
       "      <th></th>\n",
       "      <th>Survived</th>\n",
       "      <th>Pclass</th>\n",
       "      <th>Sex</th>\n",
       "      <th>Age</th>\n",
       "      <th>SibSp</th>\n",
       "      <th>ParCh</th>\n",
       "      <th>Fare</th>\n",
       "      <th>Embarked</th>\n",
       "    </tr>\n",
       "    <tr>\n",
       "      <th>PassengerId</th>\n",
       "      <th></th>\n",
       "      <th></th>\n",
       "      <th></th>\n",
       "      <th></th>\n",
       "      <th></th>\n",
       "      <th></th>\n",
       "      <th></th>\n",
       "      <th></th>\n",
       "    </tr>\n",
       "  </thead>\n",
       "  <tbody>\n",
       "    <tr>\n",
       "      <th>62</th>\n",
       "      <td>1</td>\n",
       "      <td>1</td>\n",
       "      <td>female</td>\n",
       "      <td>38.0</td>\n",
       "      <td>0</td>\n",
       "      <td>0</td>\n",
       "      <td>80.0</td>\n",
       "      <td>NaN</td>\n",
       "    </tr>\n",
       "    <tr>\n",
       "      <th>830</th>\n",
       "      <td>1</td>\n",
       "      <td>1</td>\n",
       "      <td>female</td>\n",
       "      <td>62.0</td>\n",
       "      <td>0</td>\n",
       "      <td>0</td>\n",
       "      <td>80.0</td>\n",
       "      <td>NaN</td>\n",
       "    </tr>\n",
       "    <tr>\n",
       "      <th>1044</th>\n",
       "      <td>0</td>\n",
       "      <td>3</td>\n",
       "      <td>male</td>\n",
       "      <td>60.5</td>\n",
       "      <td>0</td>\n",
       "      <td>0</td>\n",
       "      <td>NaN</td>\n",
       "      <td>S</td>\n",
       "    </tr>\n",
       "  </tbody>\n",
       "</table>\n",
       "</div>"
      ],
      "text/plain": [
       "             Survived  Pclass     Sex   Age  SibSp  ParCh  Fare Embarked\n",
       "PassengerId                                                             \n",
       "62                  1       1  female  38.0      0      0  80.0      NaN\n",
       "830                 1       1  female  62.0      0      0  80.0      NaN\n",
       "1044                0       3    male  60.5      0      0   NaN        S"
      ]
     },
     "execution_count": 20,
     "metadata": {},
     "output_type": "execute_result"
    }
   ],
   "source": [
    "null_data = titanic_data[titanic_data.isnull().any(axis=1)]\n",
    "null_data"
   ]
  },
  {
   "cell_type": "code",
   "execution_count": 21,
   "metadata": {
    "collapsed": true
   },
   "outputs": [],
   "source": [
    "titanic_data['Fare'].fillna((titanic_data['Fare'].median()), inplace=True)"
   ]
  },
  {
   "cell_type": "code",
   "execution_count": 22,
   "metadata": {
    "collapsed": true
   },
   "outputs": [],
   "source": [
    "titanic_data['Embarked'].fillna((titanic_data['Embarked'].mode()[0]), inplace=True)"
   ]
  },
  {
   "cell_type": "markdown",
   "metadata": {},
   "source": [
    "### Step E: Convert Categorical Variables to Numeric and/or Dummies"
   ]
  },
  {
   "cell_type": "code",
   "execution_count": 23,
   "metadata": {},
   "outputs": [
    {
     "data": {
      "text/plain": [
       "0    843\n",
       "1    466\n",
       "Name: Sex, dtype: int64"
      ]
     },
     "execution_count": 23,
     "metadata": {},
     "output_type": "execute_result"
    }
   ],
   "source": [
    "values = titanic_data['Sex'].values\n",
    "sex = [1 if v == 'female' else 0 for v in values]\n",
    "titanic_data['Sex'] = sex\n",
    "titanic_data['Sex'].value_counts()"
   ]
  },
  {
   "cell_type": "code",
   "execution_count": 24,
   "metadata": {},
   "outputs": [
    {
     "data": {
      "text/html": [
       "<div>\n",
       "<style>\n",
       "    .dataframe thead tr:only-child th {\n",
       "        text-align: right;\n",
       "    }\n",
       "\n",
       "    .dataframe thead th {\n",
       "        text-align: left;\n",
       "    }\n",
       "\n",
       "    .dataframe tbody tr th {\n",
       "        vertical-align: top;\n",
       "    }\n",
       "</style>\n",
       "<table border=\"1\" class=\"dataframe\">\n",
       "  <thead>\n",
       "    <tr style=\"text-align: right;\">\n",
       "      <th></th>\n",
       "      <th>Survived</th>\n",
       "      <th>Pclass</th>\n",
       "      <th>Sex</th>\n",
       "      <th>Age</th>\n",
       "      <th>SibSp</th>\n",
       "      <th>ParCh</th>\n",
       "      <th>Fare</th>\n",
       "      <th>Embarked</th>\n",
       "    </tr>\n",
       "    <tr>\n",
       "      <th>PassengerId</th>\n",
       "      <th></th>\n",
       "      <th></th>\n",
       "      <th></th>\n",
       "      <th></th>\n",
       "      <th></th>\n",
       "      <th></th>\n",
       "      <th></th>\n",
       "      <th></th>\n",
       "    </tr>\n",
       "  </thead>\n",
       "  <tbody>\n",
       "    <tr>\n",
       "      <th>1</th>\n",
       "      <td>0</td>\n",
       "      <td>3</td>\n",
       "      <td>0</td>\n",
       "      <td>22.0</td>\n",
       "      <td>1</td>\n",
       "      <td>0</td>\n",
       "      <td>7.2500</td>\n",
       "      <td>S</td>\n",
       "    </tr>\n",
       "    <tr>\n",
       "      <th>2</th>\n",
       "      <td>1</td>\n",
       "      <td>1</td>\n",
       "      <td>1</td>\n",
       "      <td>38.0</td>\n",
       "      <td>1</td>\n",
       "      <td>0</td>\n",
       "      <td>71.2833</td>\n",
       "      <td>C</td>\n",
       "    </tr>\n",
       "    <tr>\n",
       "      <th>3</th>\n",
       "      <td>1</td>\n",
       "      <td>3</td>\n",
       "      <td>1</td>\n",
       "      <td>26.0</td>\n",
       "      <td>0</td>\n",
       "      <td>0</td>\n",
       "      <td>7.9250</td>\n",
       "      <td>S</td>\n",
       "    </tr>\n",
       "    <tr>\n",
       "      <th>4</th>\n",
       "      <td>1</td>\n",
       "      <td>1</td>\n",
       "      <td>1</td>\n",
       "      <td>35.0</td>\n",
       "      <td>1</td>\n",
       "      <td>0</td>\n",
       "      <td>53.1000</td>\n",
       "      <td>S</td>\n",
       "    </tr>\n",
       "    <tr>\n",
       "      <th>5</th>\n",
       "      <td>0</td>\n",
       "      <td>3</td>\n",
       "      <td>0</td>\n",
       "      <td>35.0</td>\n",
       "      <td>0</td>\n",
       "      <td>0</td>\n",
       "      <td>8.0500</td>\n",
       "      <td>S</td>\n",
       "    </tr>\n",
       "  </tbody>\n",
       "</table>\n",
       "</div>"
      ],
      "text/plain": [
       "             Survived  Pclass  Sex   Age  SibSp  ParCh     Fare Embarked\n",
       "PassengerId                                                             \n",
       "1                   0       3    0  22.0      1      0   7.2500        S\n",
       "2                   1       1    1  38.0      1      0  71.2833        C\n",
       "3                   1       3    1  26.0      0      0   7.9250        S\n",
       "4                   1       1    1  35.0      1      0  53.1000        S\n",
       "5                   0       3    0  35.0      0      0   8.0500        S"
      ]
     },
     "execution_count": 24,
     "metadata": {},
     "output_type": "execute_result"
    }
   ],
   "source": [
    "titanic_data.head()"
   ]
  },
  {
   "cell_type": "code",
   "execution_count": 25,
   "metadata": {},
   "outputs": [
    {
     "data": {
      "text/html": [
       "<div>\n",
       "<style>\n",
       "    .dataframe thead tr:only-child th {\n",
       "        text-align: right;\n",
       "    }\n",
       "\n",
       "    .dataframe thead th {\n",
       "        text-align: left;\n",
       "    }\n",
       "\n",
       "    .dataframe tbody tr th {\n",
       "        vertical-align: top;\n",
       "    }\n",
       "</style>\n",
       "<table border=\"1\" class=\"dataframe\">\n",
       "  <thead>\n",
       "    <tr style=\"text-align: right;\">\n",
       "      <th></th>\n",
       "      <th>Survived</th>\n",
       "      <th>Pclass</th>\n",
       "      <th>Sex</th>\n",
       "      <th>Age</th>\n",
       "      <th>SibSp</th>\n",
       "      <th>ParCh</th>\n",
       "      <th>Fare</th>\n",
       "      <th>Em_C</th>\n",
       "      <th>Em_Q</th>\n",
       "      <th>Em_S</th>\n",
       "    </tr>\n",
       "    <tr>\n",
       "      <th>PassengerId</th>\n",
       "      <th></th>\n",
       "      <th></th>\n",
       "      <th></th>\n",
       "      <th></th>\n",
       "      <th></th>\n",
       "      <th></th>\n",
       "      <th></th>\n",
       "      <th></th>\n",
       "      <th></th>\n",
       "      <th></th>\n",
       "    </tr>\n",
       "  </thead>\n",
       "  <tbody>\n",
       "    <tr>\n",
       "      <th>1</th>\n",
       "      <td>0</td>\n",
       "      <td>3</td>\n",
       "      <td>0</td>\n",
       "      <td>22.0</td>\n",
       "      <td>1</td>\n",
       "      <td>0</td>\n",
       "      <td>7.2500</td>\n",
       "      <td>0</td>\n",
       "      <td>0</td>\n",
       "      <td>1</td>\n",
       "    </tr>\n",
       "    <tr>\n",
       "      <th>2</th>\n",
       "      <td>1</td>\n",
       "      <td>1</td>\n",
       "      <td>1</td>\n",
       "      <td>38.0</td>\n",
       "      <td>1</td>\n",
       "      <td>0</td>\n",
       "      <td>71.2833</td>\n",
       "      <td>1</td>\n",
       "      <td>0</td>\n",
       "      <td>0</td>\n",
       "    </tr>\n",
       "    <tr>\n",
       "      <th>3</th>\n",
       "      <td>1</td>\n",
       "      <td>3</td>\n",
       "      <td>1</td>\n",
       "      <td>26.0</td>\n",
       "      <td>0</td>\n",
       "      <td>0</td>\n",
       "      <td>7.9250</td>\n",
       "      <td>0</td>\n",
       "      <td>0</td>\n",
       "      <td>1</td>\n",
       "    </tr>\n",
       "    <tr>\n",
       "      <th>4</th>\n",
       "      <td>1</td>\n",
       "      <td>1</td>\n",
       "      <td>1</td>\n",
       "      <td>35.0</td>\n",
       "      <td>1</td>\n",
       "      <td>0</td>\n",
       "      <td>53.1000</td>\n",
       "      <td>0</td>\n",
       "      <td>0</td>\n",
       "      <td>1</td>\n",
       "    </tr>\n",
       "    <tr>\n",
       "      <th>5</th>\n",
       "      <td>0</td>\n",
       "      <td>3</td>\n",
       "      <td>0</td>\n",
       "      <td>35.0</td>\n",
       "      <td>0</td>\n",
       "      <td>0</td>\n",
       "      <td>8.0500</td>\n",
       "      <td>0</td>\n",
       "      <td>0</td>\n",
       "      <td>1</td>\n",
       "    </tr>\n",
       "  </tbody>\n",
       "</table>\n",
       "</div>"
      ],
      "text/plain": [
       "             Survived  Pclass  Sex   Age  SibSp  ParCh     Fare  Em_C  Em_Q  \\\n",
       "PassengerId                                                                   \n",
       "1                   0       3    0  22.0      1      0   7.2500     0     0   \n",
       "2                   1       1    1  38.0      1      0  71.2833     1     0   \n",
       "3                   1       3    1  26.0      0      0   7.9250     0     0   \n",
       "4                   1       1    1  35.0      1      0  53.1000     0     0   \n",
       "5                   0       3    0  35.0      0      0   8.0500     0     0   \n",
       "\n",
       "             Em_S  \n",
       "PassengerId        \n",
       "1               1  \n",
       "2               0  \n",
       "3               1  \n",
       "4               1  \n",
       "5               1  "
      ]
     },
     "execution_count": 25,
     "metadata": {},
     "output_type": "execute_result"
    }
   ],
   "source": [
    "Embarked_dum = pd.get_dummies(titanic_data['Embarked'], prefix = 'Em')\n",
    "titanic_dum = pd.concat([titanic_data, Embarked_dum], axis=1)\n",
    "titanic_dum = titanic_dum.drop(['Embarked'], axis = 1)\n",
    "titanic_dum.head()"
   ]
  },
  {
   "cell_type": "code",
   "execution_count": 26,
   "metadata": {
    "collapsed": true
   },
   "outputs": [],
   "source": [
    "titanic_data = titanic_dum"
   ]
  },
  {
   "cell_type": "markdown",
   "metadata": {},
   "source": [
    "### Step F: Examine the Relationship Between the Variables"
   ]
  },
  {
   "cell_type": "code",
   "execution_count": 27,
   "metadata": {},
   "outputs": [
    {
     "data": {
      "text/html": [
       "<div>\n",
       "<style>\n",
       "    .dataframe thead tr:only-child th {\n",
       "        text-align: right;\n",
       "    }\n",
       "\n",
       "    .dataframe thead th {\n",
       "        text-align: left;\n",
       "    }\n",
       "\n",
       "    .dataframe tbody tr th {\n",
       "        vertical-align: top;\n",
       "    }\n",
       "</style>\n",
       "<table border=\"1\" class=\"dataframe\">\n",
       "  <thead>\n",
       "    <tr style=\"text-align: right;\">\n",
       "      <th></th>\n",
       "      <th>Survived</th>\n",
       "      <th>Pclass</th>\n",
       "      <th>Sex</th>\n",
       "      <th>Age</th>\n",
       "      <th>SibSp</th>\n",
       "      <th>ParCh</th>\n",
       "      <th>Fare</th>\n",
       "      <th>Em_C</th>\n",
       "      <th>Em_Q</th>\n",
       "      <th>Em_S</th>\n",
       "    </tr>\n",
       "  </thead>\n",
       "  <tbody>\n",
       "    <tr>\n",
       "      <th>Survived</th>\n",
       "      <td>PosStrong</td>\n",
       "      <td>Weak</td>\n",
       "      <td>PosStrong</td>\n",
       "      <td>Weak</td>\n",
       "      <td>Weak</td>\n",
       "      <td>Weak</td>\n",
       "      <td>Weak</td>\n",
       "      <td>Weak</td>\n",
       "      <td>Weak</td>\n",
       "      <td>Weak</td>\n",
       "    </tr>\n",
       "    <tr>\n",
       "      <th>Pclass</th>\n",
       "      <td>Weak</td>\n",
       "      <td>PosStrong</td>\n",
       "      <td>Weak</td>\n",
       "      <td>NegMedium</td>\n",
       "      <td>Weak</td>\n",
       "      <td>Weak</td>\n",
       "      <td>NegMedium</td>\n",
       "      <td>Weak</td>\n",
       "      <td>Weak</td>\n",
       "      <td>Weak</td>\n",
       "    </tr>\n",
       "    <tr>\n",
       "      <th>Sex</th>\n",
       "      <td>PosStrong</td>\n",
       "      <td>Weak</td>\n",
       "      <td>PosStrong</td>\n",
       "      <td>Weak</td>\n",
       "      <td>Weak</td>\n",
       "      <td>Weak</td>\n",
       "      <td>Weak</td>\n",
       "      <td>Weak</td>\n",
       "      <td>Weak</td>\n",
       "      <td>Weak</td>\n",
       "    </tr>\n",
       "    <tr>\n",
       "      <th>Age</th>\n",
       "      <td>Weak</td>\n",
       "      <td>NegMedium</td>\n",
       "      <td>Weak</td>\n",
       "      <td>PosStrong</td>\n",
       "      <td>Weak</td>\n",
       "      <td>Weak</td>\n",
       "      <td>Weak</td>\n",
       "      <td>Weak</td>\n",
       "      <td>Weak</td>\n",
       "      <td>Weak</td>\n",
       "    </tr>\n",
       "    <tr>\n",
       "      <th>SibSp</th>\n",
       "      <td>Weak</td>\n",
       "      <td>Weak</td>\n",
       "      <td>Weak</td>\n",
       "      <td>Weak</td>\n",
       "      <td>PosStrong</td>\n",
       "      <td>PosMedium</td>\n",
       "      <td>Weak</td>\n",
       "      <td>Weak</td>\n",
       "      <td>Weak</td>\n",
       "      <td>Weak</td>\n",
       "    </tr>\n",
       "    <tr>\n",
       "      <th>ParCh</th>\n",
       "      <td>Weak</td>\n",
       "      <td>Weak</td>\n",
       "      <td>Weak</td>\n",
       "      <td>Weak</td>\n",
       "      <td>PosMedium</td>\n",
       "      <td>PosStrong</td>\n",
       "      <td>Weak</td>\n",
       "      <td>Weak</td>\n",
       "      <td>Weak</td>\n",
       "      <td>Weak</td>\n",
       "    </tr>\n",
       "    <tr>\n",
       "      <th>Fare</th>\n",
       "      <td>Weak</td>\n",
       "      <td>NegMedium</td>\n",
       "      <td>Weak</td>\n",
       "      <td>Weak</td>\n",
       "      <td>Weak</td>\n",
       "      <td>Weak</td>\n",
       "      <td>PosStrong</td>\n",
       "      <td>Weak</td>\n",
       "      <td>Weak</td>\n",
       "      <td>Weak</td>\n",
       "    </tr>\n",
       "    <tr>\n",
       "      <th>Em_C</th>\n",
       "      <td>Weak</td>\n",
       "      <td>Weak</td>\n",
       "      <td>Weak</td>\n",
       "      <td>Weak</td>\n",
       "      <td>Weak</td>\n",
       "      <td>Weak</td>\n",
       "      <td>Weak</td>\n",
       "      <td>PosStrong</td>\n",
       "      <td>Weak</td>\n",
       "      <td>NegStrong</td>\n",
       "    </tr>\n",
       "    <tr>\n",
       "      <th>Em_Q</th>\n",
       "      <td>Weak</td>\n",
       "      <td>Weak</td>\n",
       "      <td>Weak</td>\n",
       "      <td>Weak</td>\n",
       "      <td>Weak</td>\n",
       "      <td>Weak</td>\n",
       "      <td>Weak</td>\n",
       "      <td>Weak</td>\n",
       "      <td>PosStrong</td>\n",
       "      <td>NegMedium</td>\n",
       "    </tr>\n",
       "    <tr>\n",
       "      <th>Em_S</th>\n",
       "      <td>Weak</td>\n",
       "      <td>Weak</td>\n",
       "      <td>Weak</td>\n",
       "      <td>Weak</td>\n",
       "      <td>Weak</td>\n",
       "      <td>Weak</td>\n",
       "      <td>Weak</td>\n",
       "      <td>NegStrong</td>\n",
       "      <td>NegMedium</td>\n",
       "      <td>PosStrong</td>\n",
       "    </tr>\n",
       "  </tbody>\n",
       "</table>\n",
       "</div>"
      ],
      "text/plain": [
       "           Survived     Pclass        Sex        Age      SibSp      ParCh  \\\n",
       "Survived  PosStrong       Weak  PosStrong       Weak       Weak       Weak   \n",
       "Pclass         Weak  PosStrong       Weak  NegMedium       Weak       Weak   \n",
       "Sex       PosStrong       Weak  PosStrong       Weak       Weak       Weak   \n",
       "Age            Weak  NegMedium       Weak  PosStrong       Weak       Weak   \n",
       "SibSp          Weak       Weak       Weak       Weak  PosStrong  PosMedium   \n",
       "ParCh          Weak       Weak       Weak       Weak  PosMedium  PosStrong   \n",
       "Fare           Weak  NegMedium       Weak       Weak       Weak       Weak   \n",
       "Em_C           Weak       Weak       Weak       Weak       Weak       Weak   \n",
       "Em_Q           Weak       Weak       Weak       Weak       Weak       Weak   \n",
       "Em_S           Weak       Weak       Weak       Weak       Weak       Weak   \n",
       "\n",
       "               Fare       Em_C       Em_Q       Em_S  \n",
       "Survived       Weak       Weak       Weak       Weak  \n",
       "Pclass    NegMedium       Weak       Weak       Weak  \n",
       "Sex            Weak       Weak       Weak       Weak  \n",
       "Age            Weak       Weak       Weak       Weak  \n",
       "SibSp          Weak       Weak       Weak       Weak  \n",
       "ParCh          Weak       Weak       Weak       Weak  \n",
       "Fare      PosStrong       Weak       Weak       Weak  \n",
       "Em_C           Weak  PosStrong       Weak  NegStrong  \n",
       "Em_Q           Weak       Weak  PosStrong  NegMedium  \n",
       "Em_S           Weak  NegStrong  NegMedium  PosStrong  "
      ]
     },
     "execution_count": 27,
     "metadata": {},
     "output_type": "execute_result"
    }
   ],
   "source": [
    "titanic_data.corr()\n",
    "titanic_corr = titanic_data.corr()\n",
    "columns = ['Survived', 'Pclass', 'Sex', 'Age', 'SibSp', 'ParCh', 'Fare', 'Em_C', 'Em_Q', 'Em_S']  \n",
    "grps = ['NegStrong', 'NegMedium', 'Weak', 'PosMedium', 'PosStrong']\n",
    "for col in columns:\n",
    "    titanic_corr[col] = pd.cut(titanic_corr[col], (-1, -0.6, -0.3, 0.3, 0.6, 1), labels=grps)\n",
    "titanic_corr"
   ]
  },
  {
   "cell_type": "markdown",
   "metadata": {},
   "source": [
    "### Step G: Decision Tree Classification"
   ]
  },
  {
   "cell_type": "code",
   "execution_count": 28,
   "metadata": {},
   "outputs": [
    {
     "data": {
      "text/html": [
       "<div>\n",
       "<style>\n",
       "    .dataframe thead tr:only-child th {\n",
       "        text-align: right;\n",
       "    }\n",
       "\n",
       "    .dataframe thead th {\n",
       "        text-align: left;\n",
       "    }\n",
       "\n",
       "    .dataframe tbody tr th {\n",
       "        vertical-align: top;\n",
       "    }\n",
       "</style>\n",
       "<table border=\"1\" class=\"dataframe\">\n",
       "  <thead>\n",
       "    <tr style=\"text-align: right;\">\n",
       "      <th></th>\n",
       "      <th>Pclass</th>\n",
       "      <th>Sex</th>\n",
       "      <th>Age</th>\n",
       "      <th>SibSp</th>\n",
       "      <th>ParCh</th>\n",
       "      <th>Fare</th>\n",
       "      <th>Em_C</th>\n",
       "      <th>Em_Q</th>\n",
       "      <th>Em_S</th>\n",
       "    </tr>\n",
       "    <tr>\n",
       "      <th>PassengerId</th>\n",
       "      <th></th>\n",
       "      <th></th>\n",
       "      <th></th>\n",
       "      <th></th>\n",
       "      <th></th>\n",
       "      <th></th>\n",
       "      <th></th>\n",
       "      <th></th>\n",
       "      <th></th>\n",
       "    </tr>\n",
       "  </thead>\n",
       "  <tbody>\n",
       "    <tr>\n",
       "      <th>1</th>\n",
       "      <td>3</td>\n",
       "      <td>0</td>\n",
       "      <td>22.0</td>\n",
       "      <td>1</td>\n",
       "      <td>0</td>\n",
       "      <td>7.2500</td>\n",
       "      <td>0</td>\n",
       "      <td>0</td>\n",
       "      <td>1</td>\n",
       "    </tr>\n",
       "    <tr>\n",
       "      <th>2</th>\n",
       "      <td>1</td>\n",
       "      <td>1</td>\n",
       "      <td>38.0</td>\n",
       "      <td>1</td>\n",
       "      <td>0</td>\n",
       "      <td>71.2833</td>\n",
       "      <td>1</td>\n",
       "      <td>0</td>\n",
       "      <td>0</td>\n",
       "    </tr>\n",
       "    <tr>\n",
       "      <th>3</th>\n",
       "      <td>3</td>\n",
       "      <td>1</td>\n",
       "      <td>26.0</td>\n",
       "      <td>0</td>\n",
       "      <td>0</td>\n",
       "      <td>7.9250</td>\n",
       "      <td>0</td>\n",
       "      <td>0</td>\n",
       "      <td>1</td>\n",
       "    </tr>\n",
       "    <tr>\n",
       "      <th>4</th>\n",
       "      <td>1</td>\n",
       "      <td>1</td>\n",
       "      <td>35.0</td>\n",
       "      <td>1</td>\n",
       "      <td>0</td>\n",
       "      <td>53.1000</td>\n",
       "      <td>0</td>\n",
       "      <td>0</td>\n",
       "      <td>1</td>\n",
       "    </tr>\n",
       "    <tr>\n",
       "      <th>5</th>\n",
       "      <td>3</td>\n",
       "      <td>0</td>\n",
       "      <td>35.0</td>\n",
       "      <td>0</td>\n",
       "      <td>0</td>\n",
       "      <td>8.0500</td>\n",
       "      <td>0</td>\n",
       "      <td>0</td>\n",
       "      <td>1</td>\n",
       "    </tr>\n",
       "  </tbody>\n",
       "</table>\n",
       "</div>"
      ],
      "text/plain": [
       "             Pclass  Sex   Age  SibSp  ParCh     Fare  Em_C  Em_Q  Em_S\n",
       "PassengerId                                                            \n",
       "1                 3    0  22.0      1      0   7.2500     0     0     1\n",
       "2                 1    1  38.0      1      0  71.2833     1     0     0\n",
       "3                 3    1  26.0      0      0   7.9250     0     0     1\n",
       "4                 1    1  35.0      1      0  53.1000     0     0     1\n",
       "5                 3    0  35.0      0      0   8.0500     0     0     1"
      ]
     },
     "execution_count": 28,
     "metadata": {},
     "output_type": "execute_result"
    }
   ],
   "source": [
    "# Create response and predictor DataFrames\n",
    "Y = titanic_data['Survived'] \n",
    "X = titanic_data.drop(['Survived'], axis=1)\n",
    "X.head()"
   ]
  },
  {
   "cell_type": "code",
   "execution_count": 29,
   "metadata": {},
   "outputs": [
    {
     "name": "stdout",
     "output_type": "stream",
     "text": [
      "Max Depth: 5\n",
      "Min Split: 4\n",
      "Min Leaf: 2\n"
     ]
    }
   ],
   "source": [
    "# Use 'Grid Search' to find the best set of DTC parameters\n",
    "# using training set with criterion = 'entropy' \n",
    "# and random_state = 33\n",
    "max_depth = [5, 6, 7]\n",
    "min_split = [2, 3, 4] \n",
    "min_leaf = [1, 2, 3]\n",
    "max_score = 0\n",
    "for d in max_depth:\n",
    "    for s in min_split:            \n",
    "        for l in min_leaf:\n",
    "            dtc = DecisionTreeClassifier (\n",
    "                    criterion = 'entropy', \n",
    "                    random_state = 33,\n",
    "                    max_depth = d, min_samples_split = s,\n",
    "                    min_samples_leaf = l)\n",
    "            dtc.fit (X, Y)   \n",
    "            scores = cross_val_score(dtc, X, Y, cv=33)\n",
    "            acc_score = scores.mean()           \n",
    "            if acc_score >= max_score:\n",
    "                max_score = acc_score\n",
    "                max_d = d\n",
    "                max_s = s\n",
    "                max_l = l\n",
    "print (\"Max Depth:\", max_d)\n",
    "print (\"Min Split:\", max_s)\n",
    "print (\"Min Leaf:\", max_l)"
   ]
  },
  {
   "cell_type": "code",
   "execution_count": 30,
   "metadata": {
    "collapsed": true
   },
   "outputs": [],
   "source": [
    "# Split the DataFrames into train and test sets: rs = 33\n",
    "X_train, X_test, Y_train, Y_test = train_test_split (\n",
    "            X, Y, random_state = 33, test_size = 0.33)"
   ]
  },
  {
   "cell_type": "code",
   "execution_count": 31,
   "metadata": {
    "collapsed": true
   },
   "outputs": [],
   "source": [
    "# Use the best parameter values for max_depth, \n",
    "# min_samples_split and min_samples_leaf returned with \n",
    "# the 'Grid Search', along with criterion = 'entropy' \n",
    "# and random_state = 33 to run DTC on the training set\n",
    "dtc = DecisionTreeClassifier (criterion = 'entropy',\n",
    "              random_state = 33, max_depth = max_d,  \n",
    "              min_samples_split = max_s, \n",
    "              min_samples_leaf = max_l)\n",
    "dtc.fit (X_train, Y_train)    \n",
    "Y_model = dtc.predict(X_test)"
   ]
  },
  {
   "cell_type": "code",
   "execution_count": 32,
   "metadata": {},
   "outputs": [
    {
     "data": {
      "text/plain": [
       "0.87731481481481477"
      ]
     },
     "execution_count": 32,
     "metadata": {},
     "output_type": "execute_result"
    }
   ],
   "source": [
    "# Display the accuracy of the predictions\n",
    "acc_score = accuracy_score (Y_test, Y_model)\n",
    "acc_score"
   ]
  },
  {
   "cell_type": "code",
   "execution_count": 33,
   "metadata": {},
   "outputs": [
    {
     "name": "stdout",
     "output_type": "stream",
     "text": [
      "Classification Report\n",
      "             precision    recall  f1-score   support\n",
      "\n",
      "          0       0.88      0.92      0.90       264\n",
      "          1       0.87      0.80      0.84       168\n",
      "\n",
      "avg / total       0.88      0.88      0.88       432\n",
      "\n"
     ]
    }
   ],
   "source": [
    "# Display classification report \n",
    "# - Class labels:  0=Died, 1=Survived\n",
    "print ('Classification Report')\n",
    "print (classification_report (Y_test, Y_model))"
   ]
  },
  {
   "cell_type": "code",
   "execution_count": 34,
   "metadata": {},
   "outputs": [
    {
     "name": "stdout",
     "output_type": "stream",
     "text": [
      "[[244  20]\n",
      " [ 33 135]]\n"
     ]
    },
    {
     "data": {
      "text/plain": [
       "<matplotlib.text.Text at 0x15d73495160>"
      ]
     },
     "execution_count": 34,
     "metadata": {},
     "output_type": "execute_result"
    },
    {
     "data": {
      "image/png": "[encoded data removed]",
      "text/plain": [
       "<matplotlib.figure.Figure at 0x15d72d53ef0>"
      ]
     },
     "metadata": {},
     "output_type": "display_data"
    }
   ],
   "source": [
    "# Display the confusion matrix using a heat map\n",
    "# Class labels:  0=Died, 1=Survived\n",
    "mat = confusion_matrix (Y_test, Y_model)\n",
    "print (mat)\n",
    "sns.heatmap(mat, square=True, annot=True, cbar=False,\n",
    "        fmt=\"d\", xticklabels = ['Died','Survived'], \n",
    "                 yticklabels= ['Died','Survived'])\n",
    "plt.xlabel('Predicted Values')\n",
    "plt.ylabel('Actual Values')"
   ]
  },
  {
   "cell_type": "code",
   "execution_count": 35,
   "metadata": {
    "scrolled": true
   },
   "outputs": [
    {
     "name": "stdout",
     "output_type": "stream",
     "text": [
      "True Positive:  244\n",
      "True Negative:  135\n",
      "False Positive:  33\n",
      "False Negative:  20\n",
      "Actual Positive:  264\n",
      "Actual Negative:  168\n",
      "True Positive Rate:  244/264 = 0.924242424242\n",
      "True Negative Rate:  135/168 = 0.803571428571\n",
      "Positive Predictive Value:  244/277 = 0.880866425993\n",
      "Negative Predictive Value:  135/155 = 0.870967741935\n",
      "False Negative Rate:  20/264 = 0.0757575757576\n",
      "False Positive Rate:  33/168 = 0.196428571429\n",
      "False Discovery Rate:  33/277 = 0.119133574007\n",
      "False Omission Rate:  20/155 = 0.129032258065\n",
      "Accuracy:  379/432 0.877314814815\n",
      "All:  432\n"
     ]
    }
   ],
   "source": [
    "# Calculate Confusion Matrix Stats\n",
    "TP = mat[0][0]\n",
    "print (\"True Positive: \", TP)\n",
    "TN = mat[1][1]\n",
    "print (\"True Negative: \", TN)\n",
    "FP = mat[1][0]\n",
    "print (\"False Positive: \", FP)\n",
    "FN = mat[0][1]\n",
    "print (\"False Negative: \", FN)\n",
    "P = TP + FN\n",
    "print (\"Actual Positive: \", P)\n",
    "N = TN + FP\n",
    "print (\"Actual Negative: \", N)\n",
    "TPR_str = str (TP) + '/' + str (P) + ' ='\n",
    "TPR = TP / P\n",
    "print (\"True Positive Rate: \", TPR_str, TPR)\n",
    "TNR_str = str (TN) + '/' + str (N) + ' ='\n",
    "TNR = TN / N\n",
    "print (\"True Negative Rate: \", TNR_str, TNR)\n",
    "PPV_str = str (TP) + '/' + str (TP + FP) + ' ='\n",
    "PPV = TP / (TP + FP)\n",
    "print (\"Positive Predictive Value: \", PPV_str, PPV) \n",
    "NPV_str = str (TN) + '/' + str (TN + FN) + ' ='\n",
    "NPV = TN / (TN + FN)\n",
    "print (\"Negative Predictive Value: \", NPV_str, NPV)\n",
    "FNR_str = str (FN) + '/' + str (P) + ' ='\n",
    "FNR = FN / P\n",
    "print (\"False Negative Rate: \", FNR_str, FNR)\n",
    "FPR_str = str (FP) + '/' + str (N) + ' ='\n",
    "FPR = FP / N\n",
    "print (\"False Positive Rate: \", FPR_str, FPR)\n",
    "FDR_str = str (FP) + '/' + str (FP + TP) + ' ='\n",
    "FDR = FP / (FP + TP)\n",
    "print (\"False Discovery Rate: \", FDR_str, FDR)\n",
    "FOR_str = str (FN) + '/' + str (FN + TN) + ' ='\n",
    "FOR = FN / (FN + TN)\n",
    "print (\"False Omission Rate: \", FOR_str, FOR)\n",
    "ACC_str = str (TP + TN) + '/' +  str (P + N)\n",
    "ACC = (TP + TN) / (P + N) \n",
    "print (\"Accuracy: \", ACC_str, ACC)\n",
    "ALL = P + N\n",
    "print (\"All: \", ALL)"
   ]
  },
  {
   "cell_type": "code",
   "execution_count": 36,
   "metadata": {
    "collapsed": true
   },
   "outputs": [],
   "source": [
    "# Step G-9\n",
    "# Create the Decision Tree Graphic\n",
    "X_cols = ['Pclass','Sex','Age','SibSp','ParCh','Fare',\n",
    "          'Em_C','Em_Q','Em_S']\n",
    "# 1=Survived, 0=Died\n",
    "with open (\"titanic.dot\", 'w') as f:\n",
    "    f = export_graphviz(dtc, out_file=f, \n",
    "             feature_names=list(X_cols),\n",
    "             class_names=('Died','Survived'),\n",
    "             filled=True,rounded=True,\n",
    "             special_characters=True)"
   ]
  },
  {
   "cell_type": "markdown",
   "metadata": {},
   "source": [
    "### Step H: Random Forest Classification "
   ]
  },
  {
   "cell_type": "code",
   "execution_count": 37,
   "metadata": {},
   "outputs": [
    {
     "name": "stdout",
     "output_type": "stream",
     "text": [
      "Max Depth: 7\n",
      "Min Split: 3\n",
      "Min Leaf: 1\n"
     ]
    }
   ],
   "source": [
    "# Use 'Grid Search' to find the best set of RFC \n",
    "# parameters using full dataset with n_estimators = 33, \n",
    "# criterion = 'entropy' and random_state = 33\n",
    "max_depth = [5, 6, 7]\n",
    "min_split = [2, 3, 4] \n",
    "min_leaf = [1, 2, 3]\n",
    "max_score = 0\n",
    "for d in max_depth:\n",
    "    for s in min_split:            \n",
    "        for l in min_leaf:\n",
    "            rfc = RandomForestClassifier (\n",
    "                     n_estimators = 33, \n",
    "                     criterion = 'entropy', \n",
    "                     random_state = 33, \n",
    "                     max_depth = d, min_samples_split = s, \n",
    "                     min_samples_leaf = l)\n",
    "            rfc.fit (X, Y)    \n",
    "            Y_model = rfc.predict(X)\n",
    "            acc_score = accuracy_score (Y, Y_model)\n",
    "            if acc_score >= max_score:\n",
    "                max_score = acc_score\n",
    "                max_d = d\n",
    "                max_s = s\n",
    "                max_l = l\n",
    "print (\"Max Depth:\", max_d)\n",
    "print (\"Min Split:\", max_s)\n",
    "print (\"Min Leaf:\", max_l)"
   ]
  },
  {
   "cell_type": "code",
   "execution_count": 38,
   "metadata": {
    "collapsed": true
   },
   "outputs": [],
   "source": [
    "# Use the best parameter values for max_depth, \n",
    "# min_samples_split and min_samples_leaf returned with \n",
    "# the 'Grid Search', along with n_estimators = 33, \n",
    "# criterion = 'entropy' and random_state = 33 to run \n",
    "# RFC on the whole set\n",
    "rfc = RandomForestClassifier (criterion = 'entropy',\n",
    "         n_estimators = 33, random_state = 33, \n",
    "         max_depth = 7, min_samples_split = 3,\n",
    "         min_samples_leaf = 1)\n",
    "rfc.fit (X, Y)    \n",
    "Y_model = rfc.predict(X)"
   ]
  },
  {
   "cell_type": "code",
   "execution_count": 39,
   "metadata": {},
   "outputs": [
    {
     "data": {
      "text/plain": [
       "0.89686783804430859"
      ]
     },
     "execution_count": 39,
     "metadata": {},
     "output_type": "execute_result"
    }
   ],
   "source": [
    "# Display the accuracy of the predictions\n",
    "acc_score = accuracy_score (Y, Y_model)\n",
    "acc_score"
   ]
  },
  {
   "cell_type": "code",
   "execution_count": 40,
   "metadata": {},
   "outputs": [
    {
     "name": "stdout",
     "output_type": "stream",
     "text": [
      "Classification Report\n",
      "             precision    recall  f1-score   support\n",
      "\n",
      "          0       0.89      0.95      0.92       815\n",
      "          1       0.91      0.80      0.85       494\n",
      "\n",
      "avg / total       0.90      0.90      0.90      1309\n",
      "\n"
     ]
    }
   ],
   "source": [
    "# Display classification report \n",
    "# - Class labels:  0=Died, 1=Survived\n",
    "print ('Classification Report')\n",
    "print (classification_report (Y, Y_model))"
   ]
  },
  {
   "cell_type": "code",
   "execution_count": 41,
   "metadata": {},
   "outputs": [
    {
     "name": "stdout",
     "output_type": "stream",
     "text": [
      "[[777  38]\n",
      " [ 97 397]]\n"
     ]
    },
    {
     "data": {
      "text/plain": [
       "<matplotlib.text.Text at 0x15d7351ffd0>"
      ]
     },
     "execution_count": 41,
     "metadata": {},
     "output_type": "execute_result"
    },
    {
     "data": {
      "image/png": "[encoded data removed]",
      "text/plain": [
       "<matplotlib.figure.Figure at 0x15d7350a8d0>"
      ]
     },
     "metadata": {},
     "output_type": "display_data"
    }
   ],
   "source": [
    "# Display the confusion matrix using a heat map\n",
    "# Class labels:  0=Died, 1=Survived\n",
    "mat = confusion_matrix (Y, Y_model)\n",
    "print (mat)\n",
    "sns.heatmap(mat, square=True, annot=True, cbar=False,\n",
    "        fmt=\"d\", xticklabels = ['Died','Survived'], \n",
    "                 yticklabels= ['Died','Survived'])\n",
    "plt.xlabel('Predicted Values')\n",
    "plt.ylabel('Actual Values')"
   ]
  },
  {
   "cell_type": "code",
   "execution_count": 42,
   "metadata": {
    "scrolled": true
   },
   "outputs": [
    {
     "name": "stdout",
     "output_type": "stream",
     "text": [
      "True Positive:  777\n",
      "True Negative:  397\n",
      "False Positive:  97\n",
      "False Negative:  38\n",
      "Actual Positive:  815\n",
      "Actual Negative:  494\n",
      "True Positive Rate:  777/815 = 0.953374233129\n",
      "True Negative Rate:  397/494 = 0.803643724696\n",
      "Positive Predictive Value:  777/874 = 0.889016018307\n",
      "Negative Predictive Value:  397/435 = 0.912643678161\n",
      "False Negative Rate:  38/815 = 0.0466257668712\n",
      "False Positive Rate:  97/494 = 0.196356275304\n",
      "False Discovery Rate:  97/874 = 0.110983981693\n",
      "False Omission Rate:  38/435 = 0.0873563218391\n",
      "Accuracy:  1174/1309 0.896867838044\n",
      "All:  1309\n"
     ]
    }
   ],
   "source": [
    "# Calculate Confusion Matrix Stats\n",
    "TP = mat[0][0]\n",
    "print (\"True Positive: \", TP)\n",
    "TN = mat[1][1]\n",
    "print (\"True Negative: \", TN)\n",
    "FP = mat[1][0]\n",
    "print (\"False Positive: \", FP)\n",
    "FN = mat[0][1]\n",
    "print (\"False Negative: \", FN)\n",
    "P = TP + FN\n",
    "print (\"Actual Positive: \", P)\n",
    "N = TN + FP\n",
    "print (\"Actual Negative: \", N)\n",
    "TPR_str = str (TP) + '/' + str (P) + ' ='\n",
    "TPR = TP / P\n",
    "print (\"True Positive Rate: \", TPR_str, TPR)\n",
    "TNR_str = str (TN) + '/' + str (N) + ' ='\n",
    "TNR = TN / N\n",
    "print (\"True Negative Rate: \", TNR_str, TNR)\n",
    "PPV_str = str (TP) + '/' + str (TP + FP) + ' ='\n",
    "PPV = TP / (TP + FP)\n",
    "print (\"Positive Predictive Value: \", PPV_str, PPV) \n",
    "NPV_str = str (TN) + '/' + str (TN + FN) + ' ='\n",
    "NPV = TN / (TN + FN)\n",
    "print (\"Negative Predictive Value: \", NPV_str, NPV)\n",
    "FNR_str = str (FN) + '/' + str (P) + ' ='\n",
    "FNR = FN / P\n",
    "print (\"False Negative Rate: \", FNR_str, FNR)\n",
    "FPR_str = str (FP) + '/' + str (N) + ' ='\n",
    "FPR = FP / N\n",
    "print (\"False Positive Rate: \", FPR_str, FPR)\n",
    "FDR_str = str (FP) + '/' + str (FP + TP) + ' ='\n",
    "FDR = FP / (FP + TP)\n",
    "print (\"False Discovery Rate: \", FDR_str, FDR)\n",
    "FOR_str = str (FN) + '/' + str (FN + TN) + ' ='\n",
    "FOR = FN / (FN + TN)\n",
    "print (\"False Omission Rate: \", FOR_str, FOR)\n",
    "ACC_str = str (TP + TN) + '/' +  str (P + N)\n",
    "ACC = (TP + TN) / (P + N) \n",
    "print (\"Accuracy: \", ACC_str, ACC)\n",
    "ALL = P + N\n",
    "print (\"All: \", ALL)"
   ]
  },
  {
   "cell_type": "markdown",
   "metadata": {},
   "source": [
    "### Step I: Logistic Regression Classification"
   ]
  },
  {
   "cell_type": "code",
   "execution_count": 43,
   "metadata": {
    "collapsed": true
   },
   "outputs": [],
   "source": [
    "# Transform the predictors using the normalization \n",
    "# scaler to interval [0, 1]\n",
    "sc = MinMaxScaler()\n",
    "sc.fit(X)\n",
    "X_norm = sc.transform(X)"
   ]
  },
  {
   "cell_type": "code",
   "execution_count": 44,
   "metadata": {},
   "outputs": [
    {
     "name": "stdout",
     "output_type": "stream",
     "text": [
      "Best Test score and params: 0.856060606061 0.1 l2\n"
     ]
    }
   ],
   "source": [
    "# Use 'Grid Search' to find the best set of Log Reg \n",
    "# parameters using normalized predictors\n",
    "max_score = 0\n",
    "for p in ['l1', 'l2']:\n",
    "    for c in [0.01,0.05,0.1,0.5,1,5]:\n",
    "        lr = LogisticRegression (C=c, penalty = p)\n",
    "        lr.fit (X_norm, Y)   \n",
    "        scores = cross_val_score(lr, X_norm, Y, cv=33)\n",
    "        acc_score = scores.mean()\n",
    "        if acc_score >= max_score:  \n",
    "            max_score = acc_score\n",
    "            best_c = c\n",
    "            best_p = p\n",
    "print (\"Best Test score and params:\", max_score, best_c, best_p)"
   ]
  },
  {
   "cell_type": "code",
   "execution_count": 45,
   "metadata": {
    "collapsed": true
   },
   "outputs": [],
   "source": [
    "# Use the parameter values for C and penalty returned above \n",
    "# with Logistic Regression classifier on training set \n",
    "lr = LogisticRegression (C=best_c, penalty = best_p)\n",
    "lr.fit (X_train, Y_train)\n",
    "Y_model = lr.predict(X_test)"
   ]
  },
  {
   "cell_type": "code",
   "execution_count": 46,
   "metadata": {},
   "outputs": [
    {
     "data": {
      "text/plain": [
       "0.86805555555555558"
      ]
     },
     "execution_count": 46,
     "metadata": {},
     "output_type": "execute_result"
    }
   ],
   "source": [
    "# Display the accuracy of the predictions\n",
    "acc_score = accuracy_score (Y_test, Y_model)\n",
    "acc_score"
   ]
  },
  {
   "cell_type": "code",
   "execution_count": 47,
   "metadata": {},
   "outputs": [
    {
     "name": "stdout",
     "output_type": "stream",
     "text": [
      "Classification Report\n",
      "             precision    recall  f1-score   support\n",
      "\n",
      "          0       0.88      0.91      0.89       264\n",
      "          1       0.85      0.80      0.83       168\n",
      "\n",
      "avg / total       0.87      0.87      0.87       432\n",
      "\n"
     ]
    }
   ],
   "source": [
    "# Display classification report \n",
    "# - Class labels:  0=Died, 1=Survived\n",
    "print ('Classification Report')\n",
    "print (classification_report (Y_test, Y_model))"
   ]
  },
  {
   "cell_type": "code",
   "execution_count": 48,
   "metadata": {
    "scrolled": true
   },
   "outputs": [
    {
     "name": "stdout",
     "output_type": "stream",
     "text": [
      "[[240  24]\n",
      " [ 33 135]]\n"
     ]
    },
    {
     "data": {
      "text/plain": [
       "<matplotlib.text.Text at 0x15d735a5048>"
      ]
     },
     "execution_count": 48,
     "metadata": {},
     "output_type": "execute_result"
    },
    {
     "data": {
      "image/png": "[encoded data removed]",
      "text/plain": [
       "<matplotlib.figure.Figure at 0x15d7353d5f8>"
      ]
     },
     "metadata": {},
     "output_type": "display_data"
    }
   ],
   "source": [
    "# Display the confusion matrix using a heat map\n",
    "# Class labels:  0=Died, 1=Survived\n",
    "mat = confusion_matrix (Y_test, Y_model)\n",
    "print (mat)\n",
    "sns.heatmap(mat, square=True, annot=True, cbar=False,\n",
    "        fmt=\"d\", xticklabels = ['Died','Survived'], \n",
    "                 yticklabels= ['Died','Survived'])\n",
    "plt.xlabel('Predicted Values')\n",
    "plt.ylabel('Actual Values')"
   ]
  },
  {
   "cell_type": "code",
   "execution_count": 49,
   "metadata": {
    "scrolled": true
   },
   "outputs": [
    {
     "name": "stdout",
     "output_type": "stream",
     "text": [
      "True Positive:  240\n",
      "True Negative:  135\n",
      "False Positive:  33\n",
      "False Negative:  24\n",
      "Actual Positive:  264\n",
      "Actual Negative:  168\n",
      "True Positive Rate:  240/264 = 0.909090909091\n",
      "True Negative Rate:  135/168 = 0.803571428571\n",
      "Positive Predictive Value:  240/273 = 0.879120879121\n",
      "Negative Predictive Value:  135/159 = 0.849056603774\n",
      "False Negative Rate:  24/264 = 0.0909090909091\n",
      "False Positive Rate:  33/168 = 0.196428571429\n",
      "False Discovery Rate:  33/273 = 0.120879120879\n",
      "False Omission Rate:  24/159 = 0.150943396226\n",
      "Accuracy:  375/432 0.868055555556\n",
      "All:  432\n"
     ]
    }
   ],
   "source": [
    "# Calculate Confusion Matrix Stats\n",
    "TP = mat[0][0]\n",
    "print (\"True Positive: \", TP)\n",
    "TN = mat[1][1]\n",
    "print (\"True Negative: \", TN)\n",
    "FP = mat[1][0]\n",
    "print (\"False Positive: \", FP)\n",
    "FN = mat[0][1]\n",
    "print (\"False Negative: \", FN)\n",
    "P = TP + FN\n",
    "print (\"Actual Positive: \", P)\n",
    "N = TN + FP\n",
    "print (\"Actual Negative: \", N)\n",
    "TPR_str = str (TP) + '/' + str (P) + ' ='\n",
    "TPR = TP / P\n",
    "print (\"True Positive Rate: \", TPR_str, TPR)\n",
    "TNR_str = str (TN) + '/' + str (N) + ' ='\n",
    "TNR = TN / N\n",
    "print (\"True Negative Rate: \", TNR_str, TNR)\n",
    "PPV_str = str (TP) + '/' + str (TP + FP) + ' ='\n",
    "PPV = TP / (TP + FP)\n",
    "print (\"Positive Predictive Value: \", PPV_str, PPV) \n",
    "NPV_str = str (TN) + '/' + str (TN + FN) + ' ='\n",
    "NPV = TN / (TN + FN)\n",
    "print (\"Negative Predictive Value: \", NPV_str, NPV)\n",
    "FNR_str = str (FN) + '/' + str (P) + ' ='\n",
    "FNR = FN / P\n",
    "print (\"False Negative Rate: \", FNR_str, FNR)\n",
    "FPR_str = str (FP) + '/' + str (N) + ' ='\n",
    "FPR = FP / N\n",
    "print (\"False Positive Rate: \", FPR_str, FPR)\n",
    "FDR_str = str (FP) + '/' + str (FP + TP) + ' ='\n",
    "FDR = FP / (FP + TP)\n",
    "print (\"False Discovery Rate: \", FDR_str, FDR)\n",
    "FOR_str = str (FN) + '/' + str (FN + TN) + ' ='\n",
    "FOR = FN / (FN + TN)\n",
    "print (\"False Omission Rate: \", FOR_str, FOR)\n",
    "ACC_str = str (TP + TN) + '/' +  str (P + N)\n",
    "ACC = (TP + TN) / (P + N) \n",
    "print (\"Accuracy: \", ACC_str, ACC)\n",
    "ALL = P + N\n",
    "print (\"All: \", ALL)"
   ]
  },
  {
   "cell_type": "markdown",
   "metadata": {},
   "source": [
    "### Step J: KNN Classification"
   ]
  },
  {
   "cell_type": "code",
   "execution_count": 50,
   "metadata": {
    "collapsed": true
   },
   "outputs": [],
   "source": [
    "# Scale the predictors to have mean \n",
    "# of 0 and of unit variance\n",
    "sc = StandardScaler()\n",
    "sc.fit(X)\n",
    "X_std = sc.transform(X)"
   ]
  },
  {
   "cell_type": "code",
   "execution_count": 51,
   "metadata": {},
   "outputs": [
    {
     "name": "stdout",
     "output_type": "stream",
     "text": [
      "Best Test score and params: 0.871794871795 17\n"
     ]
    }
   ],
   "source": [
    "# Use 'Grid Search' to find the 'k' best neighbors\n",
    "# parameters using standardized predictors\n",
    "max_score = 0\n",
    "for k in range(3,20,2):\n",
    "    knn = KNeighborsClassifier(n_neighbors=k)\n",
    "    scores = cross_val_score(knn, X_std, Y, cv=33)\n",
    "    acc_score = scores.mean()\n",
    "    if acc_score >= max_score:  \n",
    "        max_score = acc_score\n",
    "        best_k = k\n",
    "print (\"Best Test score and params:\", max_score, best_k)"
   ]
  },
  {
   "cell_type": "code",
   "execution_count": 52,
   "metadata": {
    "collapsed": true
   },
   "outputs": [],
   "source": [
    "# Split the DataFrames into train and test sets: rs = 33\n",
    "X_train, X_test, Y_train, Y_test = train_test_split (\n",
    "            X_std, Y, random_state = 33, test_size = 0.33)"
   ]
  },
  {
   "cell_type": "code",
   "execution_count": 53,
   "metadata": {
    "collapsed": true
   },
   "outputs": [],
   "source": [
    "# Use the 'k' best neighbors returned above \n",
    "# with KNN classifier on training set\n",
    "knn = KNeighborsClassifier (n_neighbors=best_k)\n",
    "knn.fit(X_train,Y_train)\n",
    "Y_model = knn.predict(X_test)"
   ]
  },
  {
   "cell_type": "code",
   "execution_count": 54,
   "metadata": {},
   "outputs": [
    {
     "data": {
      "text/plain": [
       "0.87962962962962965"
      ]
     },
     "execution_count": 54,
     "metadata": {},
     "output_type": "execute_result"
    }
   ],
   "source": [
    "# Display the accuracy of the predictions\n",
    "acc_score = accuracy_score (Y_test, Y_model)\n",
    "acc_score"
   ]
  },
  {
   "cell_type": "code",
   "execution_count": 55,
   "metadata": {},
   "outputs": [
    {
     "name": "stdout",
     "output_type": "stream",
     "text": [
      "Classification Report\n",
      "             precision    recall  f1-score   support\n",
      "\n",
      "          0       0.88      0.93      0.90       264\n",
      "          1       0.88      0.80      0.84       168\n",
      "\n",
      "avg / total       0.88      0.88      0.88       432\n",
      "\n"
     ]
    }
   ],
   "source": [
    "# Display classification report \n",
    "# - Class labels:  0=Died, 1=Survived\n",
    "print ('Classification Report')\n",
    "print (classification_report (Y_test, Y_model))"
   ]
  },
  {
   "cell_type": "code",
   "execution_count": 56,
   "metadata": {
    "scrolled": true
   },
   "outputs": [
    {
     "name": "stdout",
     "output_type": "stream",
     "text": [
      "[[245  19]\n",
      " [ 33 135]]\n"
     ]
    },
    {
     "data": {
      "text/plain": [
       "<matplotlib.text.Text at 0x15d736045f8>"
      ]
     },
     "execution_count": 56,
     "metadata": {},
     "output_type": "execute_result"
    },
    {
     "data": {
      "image/png": "[encoded data removed]",
      "text/plain": [
       "<matplotlib.figure.Figure at 0x15d7359a518>"
      ]
     },
     "metadata": {},
     "output_type": "display_data"
    }
   ],
   "source": [
    "# Display the confusion matrix using a heat map\n",
    "# Class labels:  0=Died, 1=Survived\n",
    "mat = confusion_matrix (Y_test, Y_model)\n",
    "print (mat)\n",
    "sns.heatmap(mat, square=True, annot=True, cbar=False,\n",
    "        fmt=\"d\", xticklabels = ['Died','Survived'], \n",
    "                 yticklabels= ['Died','Survived'])\n",
    "plt.xlabel('Predicted Values')\n",
    "plt.ylabel('Actual Values')"
   ]
  },
  {
   "cell_type": "code",
   "execution_count": 57,
   "metadata": {
    "scrolled": true
   },
   "outputs": [
    {
     "name": "stdout",
     "output_type": "stream",
     "text": [
      "True Positive:  245\n",
      "True Negative:  135\n",
      "False Positive:  33\n",
      "False Negative:  19\n",
      "Actual Positive:  264\n",
      "Actual Negative:  168\n",
      "True Positive Rate:  245/264 = 0.92803030303\n",
      "True Negative Rate:  135/168 = 0.803571428571\n",
      "Positive Predictive Value:  245/278 = 0.881294964029\n",
      "Negative Predictive Value:  135/154 = 0.876623376623\n",
      "False Negative Rate:  19/264 = 0.0719696969697\n",
      "False Positive Rate:  33/168 = 0.196428571429\n",
      "False Discovery Rate:  33/278 = 0.118705035971\n",
      "False Omission Rate:  19/154 = 0.123376623377\n",
      "Accuracy:  380/432 0.87962962963\n",
      "All:  432\n"
     ]
    }
   ],
   "source": [
    "# Calculate Confusion Matrix Stats\n",
    "TP = mat[0][0]\n",
    "print (\"True Positive: \", TP)\n",
    "TN = mat[1][1]\n",
    "print (\"True Negative: \", TN)\n",
    "FP = mat[1][0]\n",
    "print (\"False Positive: \", FP)\n",
    "FN = mat[0][1]\n",
    "print (\"False Negative: \", FN)\n",
    "P = TP + FN\n",
    "print (\"Actual Positive: \", P)\n",
    "N = TN + FP\n",
    "print (\"Actual Negative: \", N)\n",
    "TPR_str = str (TP) + '/' + str (P) + ' ='\n",
    "TPR = TP / P\n",
    "print (\"True Positive Rate: \", TPR_str, TPR)\n",
    "TNR_str = str (TN) + '/' + str (N) + ' ='\n",
    "TNR = TN / N\n",
    "print (\"True Negative Rate: \", TNR_str, TNR)\n",
    "PPV_str = str (TP) + '/' + str (TP + FP) + ' ='\n",
    "PPV = TP / (TP + FP)\n",
    "print (\"Positive Predictive Value: \", PPV_str, PPV) \n",
    "NPV_str = str (TN) + '/' + str (TN + FN) + ' ='\n",
    "NPV = TN / (TN + FN)\n",
    "print (\"Negative Predictive Value: \", NPV_str, NPV)\n",
    "FNR_str = str (FN) + '/' + str (P) + ' ='\n",
    "FNR = FN / P\n",
    "print (\"False Negative Rate: \", FNR_str, FNR)\n",
    "FPR_str = str (FP) + '/' + str (N) + ' ='\n",
    "FPR = FP / N\n",
    "print (\"False Positive Rate: \", FPR_str, FPR)\n",
    "FDR_str = str (FP) + '/' + str (FP + TP) + ' ='\n",
    "FDR = FP / (FP + TP)\n",
    "print (\"False Discovery Rate: \", FDR_str, FDR)\n",
    "FOR_str = str (FN) + '/' + str (FN + TN) + ' ='\n",
    "FOR = FN / (FN + TN)\n",
    "print (\"False Omission Rate: \", FOR_str, FOR)\n",
    "ACC_str = str (TP + TN) + '/' +  str (P + N)\n",
    "ACC = (TP + TN) / (P + N) \n",
    "print (\"Accuracy: \", ACC_str, ACC)\n",
    "ALL = P + N\n",
    "print (\"All: \", ALL)"
   ]
  },
  {
   "cell_type": "markdown",
   "metadata": {},
   "source": [
    "### Step K: Naïve Bayes Classification"
   ]
  },
  {
   "cell_type": "code",
   "execution_count": 58,
   "metadata": {},
   "outputs": [
    {
     "data": {
      "text/html": [
       "<div>\n",
       "<style>\n",
       "    .dataframe thead tr:only-child th {\n",
       "        text-align: right;\n",
       "    }\n",
       "\n",
       "    .dataframe thead th {\n",
       "        text-align: left;\n",
       "    }\n",
       "\n",
       "    .dataframe tbody tr th {\n",
       "        vertical-align: top;\n",
       "    }\n",
       "</style>\n",
       "<table border=\"1\" class=\"dataframe\">\n",
       "  <thead>\n",
       "    <tr style=\"text-align: right;\">\n",
       "      <th></th>\n",
       "      <th>Survived</th>\n",
       "      <th>Sex</th>\n",
       "      <th>Age</th>\n",
       "      <th>SibSp</th>\n",
       "      <th>ParCh</th>\n",
       "      <th>Fare</th>\n",
       "      <th>Em_C</th>\n",
       "      <th>Em_Q</th>\n",
       "      <th>Em_S</th>\n",
       "      <th>PC_1</th>\n",
       "      <th>PC_2</th>\n",
       "      <th>PC_3</th>\n",
       "    </tr>\n",
       "    <tr>\n",
       "      <th>PassengerId</th>\n",
       "      <th></th>\n",
       "      <th></th>\n",
       "      <th></th>\n",
       "      <th></th>\n",
       "      <th></th>\n",
       "      <th></th>\n",
       "      <th></th>\n",
       "      <th></th>\n",
       "      <th></th>\n",
       "      <th></th>\n",
       "      <th></th>\n",
       "      <th></th>\n",
       "    </tr>\n",
       "  </thead>\n",
       "  <tbody>\n",
       "    <tr>\n",
       "      <th>1</th>\n",
       "      <td>0</td>\n",
       "      <td>0</td>\n",
       "      <td>22.0</td>\n",
       "      <td>1</td>\n",
       "      <td>0</td>\n",
       "      <td>7.2500</td>\n",
       "      <td>0</td>\n",
       "      <td>0</td>\n",
       "      <td>1</td>\n",
       "      <td>0</td>\n",
       "      <td>0</td>\n",
       "      <td>1</td>\n",
       "    </tr>\n",
       "    <tr>\n",
       "      <th>2</th>\n",
       "      <td>1</td>\n",
       "      <td>1</td>\n",
       "      <td>38.0</td>\n",
       "      <td>1</td>\n",
       "      <td>0</td>\n",
       "      <td>71.2833</td>\n",
       "      <td>1</td>\n",
       "      <td>0</td>\n",
       "      <td>0</td>\n",
       "      <td>1</td>\n",
       "      <td>0</td>\n",
       "      <td>0</td>\n",
       "    </tr>\n",
       "    <tr>\n",
       "      <th>3</th>\n",
       "      <td>1</td>\n",
       "      <td>1</td>\n",
       "      <td>26.0</td>\n",
       "      <td>0</td>\n",
       "      <td>0</td>\n",
       "      <td>7.9250</td>\n",
       "      <td>0</td>\n",
       "      <td>0</td>\n",
       "      <td>1</td>\n",
       "      <td>0</td>\n",
       "      <td>0</td>\n",
       "      <td>1</td>\n",
       "    </tr>\n",
       "    <tr>\n",
       "      <th>4</th>\n",
       "      <td>1</td>\n",
       "      <td>1</td>\n",
       "      <td>35.0</td>\n",
       "      <td>1</td>\n",
       "      <td>0</td>\n",
       "      <td>53.1000</td>\n",
       "      <td>0</td>\n",
       "      <td>0</td>\n",
       "      <td>1</td>\n",
       "      <td>1</td>\n",
       "      <td>0</td>\n",
       "      <td>0</td>\n",
       "    </tr>\n",
       "    <tr>\n",
       "      <th>5</th>\n",
       "      <td>0</td>\n",
       "      <td>0</td>\n",
       "      <td>35.0</td>\n",
       "      <td>0</td>\n",
       "      <td>0</td>\n",
       "      <td>8.0500</td>\n",
       "      <td>0</td>\n",
       "      <td>0</td>\n",
       "      <td>1</td>\n",
       "      <td>0</td>\n",
       "      <td>0</td>\n",
       "      <td>1</td>\n",
       "    </tr>\n",
       "  </tbody>\n",
       "</table>\n",
       "</div>"
      ],
      "text/plain": [
       "             Survived  Sex   Age  SibSp  ParCh     Fare  Em_C  Em_Q  Em_S  \\\n",
       "PassengerId                                                                 \n",
       "1                   0    0  22.0      1      0   7.2500     0     0     1   \n",
       "2                   1    1  38.0      1      0  71.2833     1     0     0   \n",
       "3                   1    1  26.0      0      0   7.9250     0     0     1   \n",
       "4                   1    1  35.0      1      0  53.1000     0     0     1   \n",
       "5                   0    0  35.0      0      0   8.0500     0     0     1   \n",
       "\n",
       "             PC_1  PC_2  PC_3  \n",
       "PassengerId                    \n",
       "1               0     0     1  \n",
       "2               1     0     0  \n",
       "3               0     0     1  \n",
       "4               1     0     0  \n",
       "5               0     0     1  "
      ]
     },
     "execution_count": 58,
     "metadata": {},
     "output_type": "execute_result"
    }
   ],
   "source": [
    "# Create dummy variables for Pclass: PC_1, PC_2, and PC_3\n",
    "# Add to DataFrame and remove 'Pclass' column\n",
    "pc_dum = pd.get_dummies (titanic_data['Pclass'], \n",
    "                         prefix = 'PC')\n",
    "titanic_data = pd.concat([titanic_data, pc_dum], axis=1)\n",
    "titanic_data = titanic_data.drop('Pclass', axis=1)\n",
    "titanic_data.head()"
   ]
  },
  {
   "cell_type": "code",
   "execution_count": 59,
   "metadata": {
    "collapsed": true
   },
   "outputs": [],
   "source": [
    "Y = titanic_data['Survived'] \n",
    "X = titanic_data.drop(['Survived'], axis=1)"
   ]
  },
  {
   "cell_type": "code",
   "execution_count": 60,
   "metadata": {
    "collapsed": true
   },
   "outputs": [],
   "source": [
    "# Transform the predictors using the normalization \n",
    "# scaler to interval [0, 1]\n",
    "sc = MinMaxScaler()\n",
    "sc.fit(X)\n",
    "X_norm = sc.transform(X)"
   ]
  },
  {
   "cell_type": "code",
   "execution_count": 61,
   "metadata": {},
   "outputs": [
    {
     "name": "stdout",
     "output_type": "stream",
     "text": [
      "Best Test score and params: 0.856060606061 3\n"
     ]
    }
   ],
   "source": [
    "# Find the 'k' best independent features \n",
    "# using the Chi2 algorithm\n",
    "# Pclass Sex Age SibSp ParCh Fare Em_C Em_Q Em_S\n",
    "max_score = 0\n",
    "for k in range (1, 9):\n",
    "    kbest = SelectKBest (score_func=chi2, k=k)\n",
    "    X_best = kbest.fit_transform (X_norm, Y)\n",
    "    gnb = GaussianNB()\n",
    "    gnb.fit (X_best, Y)\n",
    "    scores = cross_val_score (gnb, X_best, Y, cv=33)\n",
    "    acc_score = scores.mean()\n",
    "    if acc_score >= max_score:  \n",
    "        max_score = acc_score\n",
    "        best_k = k\n",
    "print (\"Best Test score and params:\", max_score, best_k)"
   ]
  },
  {
   "cell_type": "code",
   "execution_count": 62,
   "metadata": {},
   "outputs": [
    {
     "data": {
      "text/plain": [
       "['Sex', 'PC_1', 'PC_3']"
      ]
     },
     "execution_count": 62,
     "metadata": {},
     "output_type": "execute_result"
    }
   ],
   "source": [
    "# xvsDv\n",
    "# Get the best 'k' independent features, and call get_support\n",
    "# method to retrieve the names of the features \n",
    "kbest = SelectKBest (score_func=chi2, k=best_k)\n",
    "X_best = kbest.fit_transform (X_norm, Y)\n",
    "feat_mask = kbest.get_support() #list of booleans\n",
    "feature_names = list (X.columns.values)\n",
    "best_features = [] # The list of your K best features\n",
    "for mask, feature in zip (feat_mask, feature_names):\n",
    "    if mask:\n",
    "        best_features.append(feature)\n",
    "best_features"
   ]
  },
  {
   "cell_type": "code",
   "execution_count": 63,
   "metadata": {
    "collapsed": true
   },
   "outputs": [],
   "source": [
    "# Part 5. It makes sence because Female and PC_1 were the most survival. And PC_3 were the most dided class."
   ]
  },
  {
   "cell_type": "code",
   "execution_count": 64,
   "metadata": {},
   "outputs": [
    {
     "data": {
      "text/plain": [
       "0.87962962962962965"
      ]
     },
     "execution_count": 64,
     "metadata": {},
     "output_type": "execute_result"
    }
   ],
   "source": [
    "# Display the accuracy of the predictions\n",
    "acc_score = accuracy_score (Y_test, Y_model)\n",
    "acc_score"
   ]
  },
  {
   "cell_type": "code",
   "execution_count": 65,
   "metadata": {},
   "outputs": [
    {
     "name": "stdout",
     "output_type": "stream",
     "text": [
      "Classification Report\n",
      "             precision    recall  f1-score   support\n",
      "\n",
      "          0       0.88      0.93      0.90       264\n",
      "          1       0.88      0.80      0.84       168\n",
      "\n",
      "avg / total       0.88      0.88      0.88       432\n",
      "\n"
     ]
    }
   ],
   "source": [
    "# Display classification report \n",
    "# - Class labels:  0=Died, 1=Survived\n",
    "print ('Classification Report')\n",
    "print (classification_report (Y_test, Y_model))"
   ]
  },
  {
   "cell_type": "code",
   "execution_count": 66,
   "metadata": {
    "scrolled": true
   },
   "outputs": [
    {
     "name": "stdout",
     "output_type": "stream",
     "text": [
      "[[245  19]\n",
      " [ 33 135]]\n"
     ]
    },
    {
     "data": {
      "text/plain": [
       "<matplotlib.text.Text at 0x15d73693a90>"
      ]
     },
     "execution_count": 66,
     "metadata": {},
     "output_type": "execute_result"
    },
    {
     "data": {
      "image/png": "[encoded data removed]",
      "text/plain": [
       "<matplotlib.figure.Figure at 0x15d7367a550>"
      ]
     },
     "metadata": {},
     "output_type": "display_data"
    }
   ],
   "source": [
    "# Display the confusion matrix using a heat map\n",
    "# Class labels:  0=Died, 1=Survived\n",
    "mat = confusion_matrix (Y_test, Y_model)\n",
    "print (mat)\n",
    "sns.heatmap(mat, square=True, annot=True, cbar=False,\n",
    "        fmt=\"d\", xticklabels = ['Died','Survived'], \n",
    "                 yticklabels= ['Died','Survived'])\n",
    "plt.xlabel('Predicted Values')\n",
    "plt.ylabel('Actual Values')"
   ]
  },
  {
   "cell_type": "code",
   "execution_count": 67,
   "metadata": {
    "scrolled": true
   },
   "outputs": [
    {
     "name": "stdout",
     "output_type": "stream",
     "text": [
      "True Positive:  245\n",
      "True Negative:  135\n",
      "False Positive:  33\n",
      "False Negative:  19\n",
      "Actual Positive:  264\n",
      "Actual Negative:  168\n",
      "True Positive Rate:  245/264 = 0.92803030303\n",
      "True Negative Rate:  135/168 = 0.803571428571\n",
      "Positive Predictive Value:  245/278 = 0.881294964029\n",
      "Negative Predictive Value:  135/154 = 0.876623376623\n",
      "False Negative Rate:  19/264 = 0.0719696969697\n",
      "False Positive Rate:  33/168 = 0.196428571429\n",
      "False Discovery Rate:  33/278 = 0.118705035971\n",
      "False Omission Rate:  19/154 = 0.123376623377\n",
      "Accuracy:  380/432 0.87962962963\n",
      "All:  432\n"
     ]
    }
   ],
   "source": [
    "# Calculate Confusion Matrix Stats\n",
    "TP = mat[0][0]\n",
    "print (\"True Positive: \", TP)\n",
    "TN = mat[1][1]\n",
    "print (\"True Negative: \", TN)\n",
    "FP = mat[1][0]\n",
    "print (\"False Positive: \", FP)\n",
    "FN = mat[0][1]\n",
    "print (\"False Negative: \", FN)\n",
    "P = TP + FN\n",
    "print (\"Actual Positive: \", P)\n",
    "N = TN + FP\n",
    "print (\"Actual Negative: \", N)\n",
    "TPR_str = str (TP) + '/' + str (P) + ' ='\n",
    "TPR = TP / P\n",
    "print (\"True Positive Rate: \", TPR_str, TPR)\n",
    "TNR_str = str (TN) + '/' + str (N) + ' ='\n",
    "TNR = TN / N\n",
    "print (\"True Negative Rate: \", TNR_str, TNR)\n",
    "PPV_str = str (TP) + '/' + str (TP + FP) + ' ='\n",
    "PPV = TP / (TP + FP)\n",
    "print (\"Positive Predictive Value: \", PPV_str, PPV) \n",
    "NPV_str = str (TN) + '/' + str (TN + FN) + ' ='\n",
    "NPV = TN / (TN + FN)\n",
    "print (\"Negative Predictive Value: \", NPV_str, NPV)\n",
    "FNR_str = str (FN) + '/' + str (P) + ' ='\n",
    "FNR = FN / P\n",
    "print (\"False Negative Rate: \", FNR_str, FNR)\n",
    "FPR_str = str (FP) + '/' + str (N) + ' ='\n",
    "FPR = FP / N\n",
    "print (\"False Positive Rate: \", FPR_str, FPR)\n",
    "FDR_str = str (FP) + '/' + str (FP + TP) + ' ='\n",
    "FDR = FP / (FP + TP)\n",
    "print (\"False Discovery Rate: \", FDR_str, FDR)\n",
    "FOR_str = str (FN) + '/' + str (FN + TN) + ' ='\n",
    "FOR = FN / (FN + TN)\n",
    "print (\"False Omission Rate: \", FOR_str, FOR)\n",
    "ACC_str = str (TP + TN) + '/' +  str (P + N)\n",
    "ACC = (TP + TN) / (P + N) \n",
    "print (\"Accuracy: \", ACC_str, ACC)\n",
    "ALL = P + N\n",
    "print (\"All: \", ALL)"
   ]
  },
  {
   "cell_type": "code",
   "execution_count": null,
   "metadata": {
    "collapsed": true
   },
   "outputs": [],
   "source": []
  }
 ],
 "metadata": {
  "kernelspec": {
   "display_name": "Python 3",
   "language": "python",
   "name": "python3"
  },
  "language_info": {
   "codemirror_mode": {
    "name": "ipython",
    "version": 3
   },
   "file_extension": ".py",
   "mimetype": "text/x-python",
   "name": "python",
   "nbconvert_exporter": "python",
   "pygments_lexer": "ipython3",
   "version": "3.7.3"
  }
 },
 "nbformat": 4,
 "nbformat_minor": 2
}
